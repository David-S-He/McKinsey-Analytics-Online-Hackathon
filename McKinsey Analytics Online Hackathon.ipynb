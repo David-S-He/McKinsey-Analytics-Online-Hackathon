{
 "cells": [
  {
   "cell_type": "code",
   "execution_count": 6,
   "metadata": {},
   "outputs": [
    {
     "name": "stdout",
     "output_type": "stream",
     "text": [
      "Populating the interactive namespace from numpy and matplotlib\n"
     ]
    },
    {
     "name": "stderr",
     "output_type": "stream",
     "text": [
      "/Users/zkid18/anaconda2/lib/python2.7/site-packages/IPython/core/magics/pylab.py:161: UserWarning: pylab import has clobbered these variables: ['datetime']\n",
      "`%matplotlib` prevents importing * from pylab and numpy\n",
      "  \"\\n`%matplotlib` prevents importing * from pylab and numpy\"\n"
     ]
    }
   ],
   "source": [
    "%matplotlib inline\n",
    "%pylab inline\n",
    "import pandas as pd\n",
    "import numpy as np\n",
    "import seaborn as sns\n",
    "from datetime import datetime, timedelta"
   ]
  },
  {
   "cell_type": "code",
   "execution_count": 469,
   "metadata": {},
   "outputs": [
    {
     "name": "stdout",
     "output_type": "stream",
     "text": [
      "matplotlib 2.0.2\n",
      "numpy 1.13.3\n",
      "pandas 0.20.1\n",
      "pip 9.0.1\n",
      "seaborn 0.8.0\n",
      "sklearn 0.18.1\n",
      "xgboost 0.6\n",
      "Python version: 2.7.13 |Anaconda custom (x86_64)| (default, Dec 20 2016, 23:05:08) \n",
      "[GCC 4.2.1 Compatible Apple LLVM 6.0 (clang-600.0.57)]\n"
     ]
    }
   ],
   "source": [
    "import sys \n",
    "modules = ['pandas', 'numpy', 'seaborn', 'datetime','matplotlib', 'pip', 'sklearn', 'xgboost']\n",
    "for name, module in sorted(sys.modules.items()): \n",
    "    if hasattr(module, '__version__') and (name in modules): \n",
    "        print name, module.__version__ \n",
    "        \n",
    "print \"Python version: {}\".format(sys.version) "
   ]
  },
  {
   "cell_type": "markdown",
   "metadata": {},
   "source": [
    "Processor info : Intel(R) Core(TM) i5-5257U CPU @ 2.70GHz"
   ]
  },
  {
   "cell_type": "code",
   "execution_count": 288,
   "metadata": {
    "collapsed": true
   },
   "outputs": [],
   "source": [
    "train_data = pd.read_csv(\"train.csv\")\n",
    "test_data = pd.read_csv(\"test.csv\")"
   ]
  },
  {
   "cell_type": "markdown",
   "metadata": {},
   "source": [
    "1. ID - Unique ID (can not be used for predictions)\n",
    "2. Gender - Sex of the applicant\n",
    "3. DOB - Date of Birth of the applicant\n",
    "4. Lead_Creation_Date - Date on which Lead was created\n",
    "5. City_Code - Anonymised Code for the City\n",
    "6. City_Category - Anonymised City Feature\n",
    "7. Employer_Code - Anonymised Code for the Employer\n",
    "8. Employer_Category1 - Anonymised Employer Feature\n",
    "9. Employer_Category2 - Anonymised Employer Feature\n",
    "10. Monthly_Income - Monthly Income in Dollars\n",
    "11. Customer_Existing_Primary_Bank_Code - Anonymised Customer Bank Code\n",
    "12. Primary_Bank_Type - Anonymised Bank Feature\n",
    "13. Contacted - Contact Verified (Y/N)\n",
    "14. Source - Categorical Variable representing source of lead\n",
    "15. Source_Category - Type of Source\n",
    "16. Existing_EMI - EMI of Existing Loans in Dollars\n",
    "17. Loan_Amount - Loan Amount Requested\n",
    "18. Loan_Period - Loan Period (Years)\n",
    "19. Interest_Rate - Interest Rate of Submitted Loan Amount\n",
    "20. EMI - EMI of Requested Loan Amount in dollars\n",
    "21. Var1 - Categorical variable with multiple levels\n",
    "22. Approved -(Target) Whether a loan is Approved or not (0/1)"
   ]
  },
  {
   "cell_type": "code",
   "execution_count": 289,
   "metadata": {},
   "outputs": [
    {
     "data": {
      "text/html": [
       "<div>\n",
       "<style>\n",
       "    .dataframe thead tr:only-child th {\n",
       "        text-align: right;\n",
       "    }\n",
       "\n",
       "    .dataframe thead th {\n",
       "        text-align: left;\n",
       "    }\n",
       "\n",
       "    .dataframe tbody tr th {\n",
       "        vertical-align: top;\n",
       "    }\n",
       "</style>\n",
       "<table border=\"1\" class=\"dataframe\">\n",
       "  <thead>\n",
       "    <tr style=\"text-align: right;\">\n",
       "      <th></th>\n",
       "      <th>Employer_Category2</th>\n",
       "      <th>Monthly_Income</th>\n",
       "      <th>Existing_EMI</th>\n",
       "      <th>Loan_Amount</th>\n",
       "      <th>Loan_Period</th>\n",
       "      <th>Interest_Rate</th>\n",
       "      <th>EMI</th>\n",
       "      <th>Var1</th>\n",
       "      <th>Approved</th>\n",
       "    </tr>\n",
       "  </thead>\n",
       "  <tbody>\n",
       "    <tr>\n",
       "      <th>count</th>\n",
       "      <td>65415.000000</td>\n",
       "      <td>6.971300e+04</td>\n",
       "      <td>69662.000000</td>\n",
       "      <td>42004.000000</td>\n",
       "      <td>42004.000000</td>\n",
       "      <td>22276.000000</td>\n",
       "      <td>22276.000000</td>\n",
       "      <td>69713.000000</td>\n",
       "      <td>69713.000000</td>\n",
       "    </tr>\n",
       "    <tr>\n",
       "      <th>mean</th>\n",
       "      <td>3.720187</td>\n",
       "      <td>5.622283e+03</td>\n",
       "      <td>360.928751</td>\n",
       "      <td>39429.982859</td>\n",
       "      <td>3.890629</td>\n",
       "      <td>19.213570</td>\n",
       "      <td>1101.466242</td>\n",
       "      <td>3.948446</td>\n",
       "      <td>0.014631</td>\n",
       "    </tr>\n",
       "    <tr>\n",
       "      <th>std</th>\n",
       "      <td>0.807374</td>\n",
       "      <td>1.747671e+05</td>\n",
       "      <td>2288.517927</td>\n",
       "      <td>30727.595990</td>\n",
       "      <td>1.167491</td>\n",
       "      <td>5.847136</td>\n",
       "      <td>752.661394</td>\n",
       "      <td>3.819214</td>\n",
       "      <td>0.120073</td>\n",
       "    </tr>\n",
       "    <tr>\n",
       "      <th>min</th>\n",
       "      <td>1.000000</td>\n",
       "      <td>0.000000e+00</td>\n",
       "      <td>0.000000</td>\n",
       "      <td>5000.000000</td>\n",
       "      <td>1.000000</td>\n",
       "      <td>11.990000</td>\n",
       "      <td>118.000000</td>\n",
       "      <td>0.000000</td>\n",
       "      <td>0.000000</td>\n",
       "    </tr>\n",
       "    <tr>\n",
       "      <th>25%</th>\n",
       "      <td>4.000000</td>\n",
       "      <td>1.650000e+03</td>\n",
       "      <td>0.000000</td>\n",
       "      <td>20000.000000</td>\n",
       "      <td>3.000000</td>\n",
       "      <td>15.250000</td>\n",
       "      <td>649.000000</td>\n",
       "      <td>0.000000</td>\n",
       "      <td>0.000000</td>\n",
       "    </tr>\n",
       "    <tr>\n",
       "      <th>50%</th>\n",
       "      <td>4.000000</td>\n",
       "      <td>2.500000e+03</td>\n",
       "      <td>0.000000</td>\n",
       "      <td>30000.000000</td>\n",
       "      <td>4.000000</td>\n",
       "      <td>18.000000</td>\n",
       "      <td>941.000000</td>\n",
       "      <td>2.000000</td>\n",
       "      <td>0.000000</td>\n",
       "    </tr>\n",
       "    <tr>\n",
       "      <th>75%</th>\n",
       "      <td>4.000000</td>\n",
       "      <td>4.000000e+03</td>\n",
       "      <td>350.000000</td>\n",
       "      <td>50000.000000</td>\n",
       "      <td>5.000000</td>\n",
       "      <td>20.000000</td>\n",
       "      <td>1295.000000</td>\n",
       "      <td>7.000000</td>\n",
       "      <td>0.000000</td>\n",
       "    </tr>\n",
       "    <tr>\n",
       "      <th>max</th>\n",
       "      <td>4.000000</td>\n",
       "      <td>3.838384e+07</td>\n",
       "      <td>545436.500000</td>\n",
       "      <td>300000.000000</td>\n",
       "      <td>6.000000</td>\n",
       "      <td>37.000000</td>\n",
       "      <td>13556.000000</td>\n",
       "      <td>10.000000</td>\n",
       "      <td>1.000000</td>\n",
       "    </tr>\n",
       "  </tbody>\n",
       "</table>\n",
       "</div>"
      ],
      "text/plain": [
       "       Employer_Category2  Monthly_Income   Existing_EMI    Loan_Amount  \\\n",
       "count        65415.000000    6.971300e+04   69662.000000   42004.000000   \n",
       "mean             3.720187    5.622283e+03     360.928751   39429.982859   \n",
       "std              0.807374    1.747671e+05    2288.517927   30727.595990   \n",
       "min              1.000000    0.000000e+00       0.000000    5000.000000   \n",
       "25%              4.000000    1.650000e+03       0.000000   20000.000000   \n",
       "50%              4.000000    2.500000e+03       0.000000   30000.000000   \n",
       "75%              4.000000    4.000000e+03     350.000000   50000.000000   \n",
       "max              4.000000    3.838384e+07  545436.500000  300000.000000   \n",
       "\n",
       "        Loan_Period  Interest_Rate           EMI          Var1      Approved  \n",
       "count  42004.000000   22276.000000  22276.000000  69713.000000  69713.000000  \n",
       "mean       3.890629      19.213570   1101.466242      3.948446      0.014631  \n",
       "std        1.167491       5.847136    752.661394      3.819214      0.120073  \n",
       "min        1.000000      11.990000    118.000000      0.000000      0.000000  \n",
       "25%        3.000000      15.250000    649.000000      0.000000      0.000000  \n",
       "50%        4.000000      18.000000    941.000000      2.000000      0.000000  \n",
       "75%        5.000000      20.000000   1295.000000      7.000000      0.000000  \n",
       "max        6.000000      37.000000  13556.000000     10.000000      1.000000  "
      ]
     },
     "execution_count": 289,
     "metadata": {},
     "output_type": "execute_result"
    }
   ],
   "source": [
    "train_data.describe()"
   ]
  },
  {
   "cell_type": "code",
   "execution_count": 290,
   "metadata": {},
   "outputs": [
    {
     "data": {
      "text/plain": [
       "(69713, 22)"
      ]
     },
     "execution_count": 290,
     "metadata": {},
     "output_type": "execute_result"
    }
   ],
   "source": [
    "train_data.shape"
   ]
  },
  {
   "cell_type": "code",
   "execution_count": 291,
   "metadata": {},
   "outputs": [
    {
     "data": {
      "text/plain": [
       "(30037, 21)"
      ]
     },
     "execution_count": 291,
     "metadata": {},
     "output_type": "execute_result"
    }
   ],
   "source": [
    "test_data.shape"
   ]
  },
  {
   "cell_type": "code",
   "execution_count": 292,
   "metadata": {
    "collapsed": true
   },
   "outputs": [],
   "source": [
    "#Convert DOB to age\n",
    "date_format = \"%d/%m/%y\"\n",
    "train_data.DOB = pd.to_datetime(train_data.DOB, format=date_format)\n",
    "train_data.DOB = np.where(train_data.DOB > datetime.now(), train_data.DOB - timedelta(365*100), train_data.DOB)\n",
    "train_data[\"Age\"] = datetime.now().year - train_data.DOB.apply(lambda x: x.year)"
   ]
  },
  {
   "cell_type": "code",
   "execution_count": 293,
   "metadata": {
    "collapsed": true
   },
   "outputs": [],
   "source": [
    "date_format = \"%d/%m/%y\"\n",
    "test_data.DOB = pd.to_datetime(test_data.DOB, format=date_format)\n",
    "test_data.DOB = np.where(test_data.DOB > datetime.now(), test_data.DOB - timedelta(365*100), test_data.DOB)\n",
    "test_data[\"Age\"] = datetime.now().year - test_data.DOB.apply(lambda x: x.year)"
   ]
  },
  {
   "cell_type": "code",
   "execution_count": 294,
   "metadata": {
    "collapsed": true
   },
   "outputs": [],
   "source": [
    "#Transform Lead_Creation_Date to date, month, year, weekday\n",
    "train_data.Lead_Creation_Date = pd.to_datetime(train_data.Lead_Creation_Date, format=date_format)\n",
    "train_data['Lead_Creation_Date_year'] = train_data.Lead_Creation_Date.apply(lambda x: x.year)\n",
    "train_data['Lead_Creation_Date_month'] = train_data.Lead_Creation_Date.apply(lambda x: x.month)\n",
    "train_data['Lead_Creation_Date_day'] = train_data.Lead_Creation_Date.apply(lambda x: x.day)\n",
    "train_data['Lead_Creation_Date_day_of_week'] = train_data.Lead_Creation_Date.apply(lambda x: x.weekday())"
   ]
  },
  {
   "cell_type": "code",
   "execution_count": 295,
   "metadata": {
    "collapsed": true
   },
   "outputs": [],
   "source": [
    "test_data.Lead_Creation_Date = pd.to_datetime(test_data.Lead_Creation_Date, format=date_format)\n",
    "test_data['Lead_Creation_Date_year'] = test_data.Lead_Creation_Date.apply(lambda x: x.year)\n",
    "test_data['Lead_Creation_Date_month'] = test_data.Lead_Creation_Date.apply(lambda x: x.month)\n",
    "test_data['Lead_Creation_Date_day'] = test_data.Lead_Creation_Date.apply(lambda x: x.day)\n",
    "test_data['Lead_Creation_Date_day_of_week'] = test_data.Lead_Creation_Date.apply(lambda x: x.weekday())"
   ]
  },
  {
   "cell_type": "markdown",
   "metadata": {},
   "source": [
    "# Data Cleaning"
   ]
  },
  {
   "cell_type": "markdown",
   "metadata": {},
   "source": [
    "## Features"
   ]
  },
  {
   "cell_type": "markdown",
   "metadata": {},
   "source": [
    "Find if there any null values and then deal with it"
   ]
  },
  {
   "cell_type": "code",
   "execution_count": 298,
   "metadata": {},
   "outputs": [
    {
     "data": {
      "text/plain": [
       "ID                                         0\n",
       "Gender                                     0\n",
       "DOB                                       15\n",
       "Lead_Creation_Date                         0\n",
       "City_Code                                814\n",
       "City_Category                            814\n",
       "Employer_Code                           4018\n",
       "Employer_Category1                      4018\n",
       "Employer_Category2                      4298\n",
       "Monthly_Income                             0\n",
       "Customer_Existing_Primary_Bank_Code     9391\n",
       "Primary_Bank_Type                       9391\n",
       "Contacted                                  0\n",
       "Source                                     0\n",
       "Source_Category                            0\n",
       "Existing_EMI                              51\n",
       "Loan_Amount                            27709\n",
       "Loan_Period                            27709\n",
       "Interest_Rate                          47437\n",
       "EMI                                    47437\n",
       "Var1                                       0\n",
       "Approved                                   0\n",
       "Age                                       15\n",
       "Lead_Creation_Date_year                    0\n",
       "Lead_Creation_Date_month                   0\n",
       "Lead_Creation_Date_day                     0\n",
       "Lead_Creation_Date_day_of_week             0\n",
       "dtype: int64"
      ]
     },
     "execution_count": 298,
     "metadata": {},
     "output_type": "execute_result"
    }
   ],
   "source": [
    "train_data.isnull().sum()"
   ]
  },
  {
   "cell_type": "code",
   "execution_count": 299,
   "metadata": {},
   "outputs": [
    {
     "data": {
      "text/plain": [
       "ID                                         0\n",
       "Gender                                     0\n",
       "DOB                                        3\n",
       "Lead_Creation_Date                         0\n",
       "City_Code                                314\n",
       "City_Category                            314\n",
       "Employer_Code                           1605\n",
       "Employer_Category1                      1605\n",
       "Employer_Category2                      1695\n",
       "Monthly_Income                             0\n",
       "Customer_Existing_Primary_Bank_Code     4037\n",
       "Primary_Bank_Type                       4037\n",
       "Contacted                                  0\n",
       "Source                                     0\n",
       "Source_Category                            0\n",
       "Existing_EMI                              32\n",
       "Loan_Amount                            11871\n",
       "Loan_Period                            11871\n",
       "Interest_Rate                          20385\n",
       "EMI                                    20385\n",
       "Var1                                       0\n",
       "Age                                        3\n",
       "Lead_Creation_Date_year                    0\n",
       "Lead_Creation_Date_month                   0\n",
       "Lead_Creation_Date_day                     0\n",
       "Lead_Creation_Date_day_of_week             0\n",
       "dtype: int64"
      ]
     },
     "execution_count": 299,
     "metadata": {},
     "output_type": "execute_result"
    }
   ],
   "source": [
    "test_data.isnull().sum()"
   ]
  },
  {
   "cell_type": "markdown",
   "metadata": {},
   "source": [
    "For the categorical features below, I created a special category for NaN variables"
   ]
  },
  {
   "cell_type": "code",
   "execution_count": 300,
   "metadata": {
    "collapsed": true
   },
   "outputs": [],
   "source": [
    "unknown_bank_code = \"BNaN\"\n",
    "train_data.Customer_Existing_Primary_Bank_Code = train_data.Customer_Existing_Primary_Bank_Code.fillna(unknown_bank_code)\n",
    "test_data.Customer_Existing_Primary_Bank_Code = test_data.Customer_Existing_Primary_Bank_Code.fillna(unknown_bank_code)"
   ]
  },
  {
   "cell_type": "code",
   "execution_count": 301,
   "metadata": {
    "collapsed": true
   },
   "outputs": [],
   "source": [
    "unknown_bank_category = \"N\"\n",
    "train_data.Primary_Bank_Type = train_data.Primary_Bank_Type.fillna(unknown_bank_category)\n",
    "test_data.Primary_Bank_Type = test_data.Primary_Bank_Type.fillna(unknown_bank_category)"
   ]
  },
  {
   "cell_type": "code",
   "execution_count": 302,
   "metadata": {
    "collapsed": true
   },
   "outputs": [],
   "source": [
    "unknown_city_code = \"C20000\"\n",
    "train_data.City_Code = train_data.City_Code.fillna(unknown_city_code)\n",
    "test_data.City_Code = test_data.City_Code.fillna(unknown_city_code)"
   ]
  },
  {
   "cell_type": "code",
   "execution_count": 303,
   "metadata": {
    "collapsed": true
   },
   "outputs": [],
   "source": [
    "unknown_city_category = \"N\"\n",
    "train_data.City_Category = train_data.City_Category.fillna(unknown_city_category)\n",
    "test_data.City_Category = test_data.City_Category.fillna(unknown_city_category)"
   ]
  },
  {
   "cell_type": "code",
   "execution_count": 304,
   "metadata": {
    "collapsed": true
   },
   "outputs": [],
   "source": [
    "unknown_employer_code = \"COM2000000\"\n",
    "train_data.Employer_Code = train_data.Employer_Code.fillna(unknown_employer_code)\n",
    "test_data.Employer_Code = test_data.Employer_Code.fillna(unknown_employer_code)"
   ]
  },
  {
   "cell_type": "code",
   "execution_count": 305,
   "metadata": {
    "collapsed": true
   },
   "outputs": [],
   "source": [
    "unknown_employer_category = \"N\"\n",
    "train_data.Employer_Category1 = train_data.Employer_Category1.fillna(unknown_employer_category)\n",
    "test_data.Employer_Category1 = test_data.Employer_Category1.fillna(unknown_employer_category)"
   ]
  },
  {
   "cell_type": "code",
   "execution_count": 306,
   "metadata": {
    "collapsed": true
   },
   "outputs": [],
   "source": [
    "train_data.Employer_Category2 = train_data.Employer_Category2.fillna(0)\n",
    "test_data.Employer_Category2 = test_data.Employer_Category2.fillna(0)"
   ]
  },
  {
   "cell_type": "code",
   "execution_count": 307,
   "metadata": {
    "collapsed": true
   },
   "outputs": [],
   "source": [
    "train_data.Existing_EMI = train_data.Existing_EMI.fillna(0)\n",
    "test_data.Existing_EMI = test_data.Existing_EMI.fillna(0)"
   ]
  },
  {
   "cell_type": "markdown",
   "metadata": {},
   "source": [
    "Change missing data about Loan_Period and Loan_Amount by median value. Not very good solution, as age left feature is left-skewed. Better to apply kNN to find age for this missing variable"
   ]
  },
  {
   "cell_type": "code",
   "execution_count": 308,
   "metadata": {
    "collapsed": true
   },
   "outputs": [],
   "source": [
    "median_age = train_data[\"Age\"].median()\n",
    "train_data.Age = train_data.Age.fillna(median_age)"
   ]
  },
  {
   "cell_type": "code",
   "execution_count": 309,
   "metadata": {
    "collapsed": true
   },
   "outputs": [],
   "source": [
    "median_age = test_data[\"Age\"].median()\n",
    "test_data.Age = test_data.Age.fillna(median_age)"
   ]
  },
  {
   "cell_type": "markdown",
   "metadata": {},
   "source": [
    "Change missing data about Loan_Period, Interest Rate, EMI and Loan_Amount by median value"
   ]
  },
  {
   "cell_type": "code",
   "execution_count": 310,
   "metadata": {
    "collapsed": true
   },
   "outputs": [],
   "source": [
    "train_data[\"isLoanInforamtionMissing\"] = np.where(train_data.Loan_Amount.isnull(), 1, 0)\n",
    "test_data[\"isLoanInforamtionMissing\"] = np.where(test_data.Loan_Amount.isnull(), 1, 0)"
   ]
  },
  {
   "cell_type": "code",
   "execution_count": 311,
   "metadata": {
    "collapsed": true
   },
   "outputs": [],
   "source": [
    "median_loan_amount =train_data[\"Loan_Amount\"].median()\n",
    "train_data.Loan_Amount = train_data.Loan_Amount.fillna(median_loan_amount)"
   ]
  },
  {
   "cell_type": "code",
   "execution_count": 312,
   "metadata": {
    "collapsed": true
   },
   "outputs": [],
   "source": [
    "median_loan_amount = test_data[\"Loan_Amount\"].median()\n",
    "test_data.Loan_Amount = test_data.Loan_Amount.fillna(median_loan_amount)"
   ]
  },
  {
   "cell_type": "code",
   "execution_count": 313,
   "metadata": {
    "collapsed": true
   },
   "outputs": [],
   "source": [
    "median_loan_period = train_data[\"Loan_Period\"].median()\n",
    "train_data.Loan_Period = train_data.Loan_Period.fillna(median_loan_period)"
   ]
  },
  {
   "cell_type": "code",
   "execution_count": 314,
   "metadata": {
    "collapsed": true
   },
   "outputs": [],
   "source": [
    "median_loan_period = test_data[\"Loan_Period\"].median()\n",
    "test_data.Loan_Period = test_data.Loan_Period.fillna(median_loan_period)"
   ]
  },
  {
   "cell_type": "code",
   "execution_count": 315,
   "metadata": {
    "collapsed": true
   },
   "outputs": [],
   "source": [
    "train_data[\"isInterestRateIsnMissing\"] = np.where(train_data.Loan_Amount.isnull(), 1, 0)\n",
    "test_data[\"isInterestRateIsnMissing\"] = np.where(test_data.Loan_Amount.isnull(), 1, 0)"
   ]
  },
  {
   "cell_type": "code",
   "execution_count": 316,
   "metadata": {
    "collapsed": true
   },
   "outputs": [],
   "source": [
    "median_interest_rate =train_data[\"Interest_Rate\"].median()\n",
    "train_data.Interest_Rate = train_data.Interest_Rate.fillna(median_interest_rate)"
   ]
  },
  {
   "cell_type": "code",
   "execution_count": 317,
   "metadata": {
    "collapsed": true
   },
   "outputs": [],
   "source": [
    "median_interest_rate =test_data[\"Interest_Rate\"].median()\n",
    "test_data.Interest_Rate = test_data.Interest_Rate.fillna(median_interest_rate)"
   ]
  },
  {
   "cell_type": "code",
   "execution_count": 318,
   "metadata": {
    "collapsed": true
   },
   "outputs": [],
   "source": [
    "EMI_rate = train_data[\"EMI\"].median()\n",
    "train_data.EMI = train_data.EMI.fillna(EMI_rate)"
   ]
  },
  {
   "cell_type": "code",
   "execution_count": 319,
   "metadata": {
    "collapsed": true
   },
   "outputs": [],
   "source": [
    "EMI_rate = test_data[\"EMI\"].median()\n",
    "test_data.EMI = test_data.EMI.fillna(EMI_rate)"
   ]
  },
  {
   "cell_type": "code",
   "execution_count": 320,
   "metadata": {},
   "outputs": [
    {
     "data": {
      "text/plain": [
       "ID                                      0\n",
       "Gender                                  0\n",
       "DOB                                    15\n",
       "Lead_Creation_Date                      0\n",
       "City_Code                               0\n",
       "City_Category                           0\n",
       "Employer_Code                           0\n",
       "Employer_Category1                      0\n",
       "Employer_Category2                      0\n",
       "Monthly_Income                          0\n",
       "Customer_Existing_Primary_Bank_Code     0\n",
       "Primary_Bank_Type                       0\n",
       "Contacted                               0\n",
       "Source                                  0\n",
       "Source_Category                         0\n",
       "Existing_EMI                            0\n",
       "Loan_Amount                             0\n",
       "Loan_Period                             0\n",
       "Interest_Rate                           0\n",
       "EMI                                     0\n",
       "Var1                                    0\n",
       "Approved                                0\n",
       "Age                                     0\n",
       "Lead_Creation_Date_year                 0\n",
       "Lead_Creation_Date_month                0\n",
       "Lead_Creation_Date_day                  0\n",
       "Lead_Creation_Date_day_of_week          0\n",
       "isLoanInforamtionMissing                0\n",
       "isInterestRateIsnMissing                0\n",
       "dtype: int64"
      ]
     },
     "execution_count": 320,
     "metadata": {},
     "output_type": "execute_result"
    }
   ],
   "source": [
    "train_data.isnull().sum()"
   ]
  },
  {
   "cell_type": "code",
   "execution_count": 321,
   "metadata": {},
   "outputs": [
    {
     "data": {
      "text/plain": [
       "ID                                     0\n",
       "Gender                                 0\n",
       "DOB                                    3\n",
       "Lead_Creation_Date                     0\n",
       "City_Code                              0\n",
       "City_Category                          0\n",
       "Employer_Code                          0\n",
       "Employer_Category1                     0\n",
       "Employer_Category2                     0\n",
       "Monthly_Income                         0\n",
       "Customer_Existing_Primary_Bank_Code    0\n",
       "Primary_Bank_Type                      0\n",
       "Contacted                              0\n",
       "Source                                 0\n",
       "Source_Category                        0\n",
       "Existing_EMI                           0\n",
       "Loan_Amount                            0\n",
       "Loan_Period                            0\n",
       "Interest_Rate                          0\n",
       "EMI                                    0\n",
       "Var1                                   0\n",
       "Age                                    0\n",
       "Lead_Creation_Date_year                0\n",
       "Lead_Creation_Date_month               0\n",
       "Lead_Creation_Date_day                 0\n",
       "Lead_Creation_Date_day_of_week         0\n",
       "isLoanInforamtionMissing               0\n",
       "isInterestRateIsnMissing               0\n",
       "dtype: int64"
      ]
     },
     "execution_count": 321,
     "metadata": {},
     "output_type": "execute_result"
    }
   ],
   "source": [
    "test_data.isnull().sum()"
   ]
  },
  {
   "cell_type": "markdown",
   "metadata": {},
   "source": [
    "## Data Visualization"
   ]
  },
  {
   "cell_type": "markdown",
   "metadata": {},
   "source": [
    "### Gender"
   ]
  },
  {
   "cell_type": "code",
   "execution_count": 274,
   "metadata": {},
   "outputs": [
    {
     "data": {
      "image/png": "[encoded data removed]",
      "text/plain": [
       "<matplotlib.figure.Figure at 0x10e375490>"
      ]
     },
     "metadata": {},
     "output_type": "display_data"
    }
   ],
   "source": [
    "_ = sns.countplot(train_data.Gender, palette='Set1')"
   ]
  },
  {
   "cell_type": "markdown",
   "metadata": {},
   "source": [
    "### Age"
   ]
  },
  {
   "cell_type": "code",
   "execution_count": 61,
   "metadata": {},
   "outputs": [
    {
     "data": {
      "image/png": "[encoded data removed]",
      "text/plain": [
       "<matplotlib.figure.Figure at 0x11d1c4990>"
      ]
     },
     "metadata": {},
     "output_type": "display_data"
    }
   ],
   "source": [
    "_ = train_data.Age.hist(label='age')"
   ]
  },
  {
   "cell_type": "markdown",
   "metadata": {},
   "source": [
    "### City category"
   ]
  },
  {
   "cell_type": "code",
   "execution_count": 62,
   "metadata": {},
   "outputs": [
    {
     "data": {
      "image/png": "[encoded data removed]",
      "text/plain": [
       "<matplotlib.figure.Figure at 0x11d3d61d0>"
      ]
     },
     "metadata": {},
     "output_type": "display_data"
    }
   ],
   "source": [
    "_ = sns.countplot(train_data.City_Category, palette='Set1')"
   ]
  },
  {
   "cell_type": "markdown",
   "metadata": {},
   "source": [
    "### City code"
   ]
  },
  {
   "cell_type": "code",
   "execution_count": 63,
   "metadata": {},
   "outputs": [
    {
     "data": {
      "text/plain": [
       "C10001    0.143534\n",
       "C10002    0.125025\n",
       "C10003    0.124293\n",
       "C10004    0.083804\n",
       "C10005    0.079830\n",
       "C10006    0.060303\n",
       "C10007    0.033014\n",
       "C10008    0.020790\n",
       "C10009    0.015151\n",
       "C10010    0.013802\n",
       "C10011    0.013343\n",
       "C2000     0.011679\n",
       "C10012    0.010287\n",
       "C10013    0.009842\n",
       "C10014    0.009096\n",
       "C10015    0.008652\n",
       "C10016    0.008494\n",
       "C10017    0.007002\n",
       "C10018    0.006815\n",
       "C10019    0.006758\n",
       "C10020    0.006370\n",
       "C10021    0.005940\n",
       "C10022    0.005710\n",
       "C10024    0.005136\n",
       "C10023    0.005036\n",
       "C10025    0.004290\n",
       "C10026    0.004276\n",
       "C10027    0.004103\n",
       "C10028    0.003659\n",
       "C10029    0.003329\n",
       "            ...   \n",
       "C10617    0.000014\n",
       "C10616    0.000014\n",
       "C10715    0.000014\n",
       "C10564    0.000014\n",
       "C10514    0.000014\n",
       "C10612    0.000014\n",
       "C10481    0.000014\n",
       "C10446    0.000014\n",
       "C10695    0.000014\n",
       "C10692    0.000014\n",
       "C10574    0.000014\n",
       "C10648    0.000014\n",
       "C10573    0.000014\n",
       "C10610    0.000014\n",
       "C10571    0.000014\n",
       "C10606    0.000014\n",
       "C10637    0.000014\n",
       "C10507    0.000014\n",
       "C10708    0.000014\n",
       "C10709    0.000014\n",
       "C10702    0.000014\n",
       "C10544    0.000014\n",
       "C10700    0.000014\n",
       "C10583    0.000014\n",
       "C10582    0.000014\n",
       "C10690    0.000014\n",
       "C10587    0.000014\n",
       "C10586    0.000014\n",
       "C10693    0.000014\n",
       "C10550    0.000014\n",
       "Name: City_Code, Length: 679, dtype: float64"
      ]
     },
     "execution_count": 63,
     "metadata": {},
     "output_type": "execute_result"
    }
   ],
   "source": [
    "train_data.City_Code.value_counts(dropna=False, normalize=True)"
   ]
  },
  {
   "cell_type": "markdown",
   "metadata": {},
   "source": [
    "### Lead Creation Date"
   ]
  },
  {
   "cell_type": "code",
   "execution_count": 65,
   "metadata": {},
   "outputs": [
    {
     "data": {
      "text/plain": [
       "2016    1.0\n",
       "Name: Lead_Creation_Date_year, dtype: float64"
      ]
     },
     "execution_count": 65,
     "metadata": {},
     "output_type": "execute_result"
    }
   ],
   "source": [
    "train_data.Lead_Creation_Date_year.value_counts(dropna=False, normalize=True)"
   ]
  },
  {
   "cell_type": "code",
   "execution_count": 66,
   "metadata": {},
   "outputs": [
    {
     "data": {
      "text/plain": [
       "9    0.368992\n",
       "8    0.321444\n",
       "7    0.309564\n",
       "Name: Lead_Creation_Date_month, dtype: float64"
      ]
     },
     "execution_count": 66,
     "metadata": {},
     "output_type": "execute_result"
    }
   ],
   "source": [
    "train_data.Lead_Creation_Date_month.value_counts(dropna=False, normalize=True)"
   ]
  },
  {
   "cell_type": "code",
   "execution_count": 67,
   "metadata": {},
   "outputs": [
    {
     "data": {
      "text/plain": [
       "<matplotlib.axes._subplots.AxesSubplot at 0x11a9b9e90>"
      ]
     },
     "execution_count": 67,
     "metadata": {},
     "output_type": "execute_result"
    },
    {
     "data": {
      "image/png": "[encoded data removed]",
      "text/plain": [
       "<matplotlib.figure.Figure at 0x110c48a10>"
      ]
     },
     "metadata": {},
     "output_type": "display_data"
    }
   ],
   "source": [
    "#Monday is 0 and Sunday is 6.\n",
    "train_data.Lead_Creation_Date_day_of_week.hist(label = \"Day of week\", bins = 20)"
   ]
  },
  {
   "cell_type": "markdown",
   "metadata": {},
   "source": [
    "### Employer Code "
   ]
  },
  {
   "cell_type": "code",
   "execution_count": 68,
   "metadata": {},
   "outputs": [
    {
     "data": {
      "text/plain": [
       "COM2000000    0.057433\n",
       "COM0000002    0.006557\n",
       "COM0000003    0.004649\n",
       "COM0000004    0.003759\n",
       "COM0000005    0.003486\n",
       "COM0000006    0.002798\n",
       "COM0000007    0.002712\n",
       "COM0000009    0.002195\n",
       "COM0000010    0.002080\n",
       "COM0000013    0.001908\n",
       "COM0000012    0.001894\n",
       "COM0000011    0.001880\n",
       "COM0000014    0.001808\n",
       "COM0000008    0.001736\n",
       "COM0000015    0.001693\n",
       "COM0000017    0.001650\n",
       "COM0000018    0.001535\n",
       "COM0000021    0.001535\n",
       "COM0000019    0.001463\n",
       "COM0000024    0.001406\n",
       "COM0000023    0.001363\n",
       "COM0000020    0.001349\n",
       "COM0000016    0.001334\n",
       "COM0000028    0.001306\n",
       "COM0000022    0.001248\n",
       "COM0000025    0.001148\n",
       "COM0000031    0.001148\n",
       "COM0000027    0.001133\n",
       "COM0000030    0.001105\n",
       "COM0000026    0.001105\n",
       "                ...   \n",
       "COM0049077    0.000014\n",
       "COM0023911    0.000014\n",
       "COM0049071    0.000014\n",
       "COM0049072    0.000014\n",
       "COM0046446    0.000014\n",
       "COM0007920    0.000014\n",
       "COM0045207    0.000014\n",
       "COM0040268    0.000014\n",
       "COM0040267    0.000014\n",
       "COM0040261    0.000014\n",
       "COM0016781    0.000014\n",
       "COM0017018    0.000014\n",
       "COM0017019    0.000014\n",
       "COM0017014    0.000014\n",
       "COM0017015    0.000014\n",
       "COM0017016    0.000014\n",
       "COM0017010    0.000014\n",
       "COM0017011    0.000014\n",
       "COM0017012    0.000014\n",
       "COM0055804    0.000014\n",
       "COM0055806    0.000014\n",
       "COM0055801    0.000014\n",
       "COM0055802    0.000014\n",
       "COM0045110    0.000014\n",
       "COM0023919    0.000014\n",
       "COM0003024    0.000014\n",
       "COM0003025    0.000014\n",
       "COM0003027    0.000014\n",
       "COM0023910    0.000014\n",
       "COM0047361    0.000014\n",
       "Name: Employer_Code, Length: 36618, dtype: float64"
      ]
     },
     "execution_count": 68,
     "metadata": {},
     "output_type": "execute_result"
    }
   ],
   "source": [
    "train_data.Employer_Code.value_counts(dropna=False, normalize=True)"
   ]
  },
  {
   "cell_type": "markdown",
   "metadata": {},
   "source": [
    "### Employer Category"
   ]
  },
  {
   "cell_type": "code",
   "execution_count": 69,
   "metadata": {},
   "outputs": [
    {
     "data": {
      "image/png": "[encoded data removed]",
      "text/plain": [
       "<matplotlib.figure.Figure at 0x11ad7c110>"
      ]
     },
     "metadata": {},
     "output_type": "display_data"
    }
   ],
   "source": [
    "_ = sns.countplot(train_data.Employer_Category1, palette='Set1')"
   ]
  },
  {
   "cell_type": "code",
   "execution_count": 70,
   "metadata": {},
   "outputs": [
    {
     "data": {
      "image/png": "[encoded data removed]",
      "text/plain": [
       "<matplotlib.figure.Figure at 0x11d203cd0>"
      ]
     },
     "metadata": {},
     "output_type": "display_data"
    }
   ],
   "source": [
    "_ = sns.countplot(train_data.Employer_Category2, palette='Set1')"
   ]
  },
  {
   "cell_type": "markdown",
   "metadata": {},
   "source": [
    "### Monthly Income"
   ]
  },
  {
   "cell_type": "code",
   "execution_count": 71,
   "metadata": {},
   "outputs": [
    {
     "data": {
      "text/plain": [
       "<matplotlib.text.Text at 0x11d2e4590>"
      ]
     },
     "execution_count": 71,
     "metadata": {},
     "output_type": "execute_result"
    },
    {
     "data": {
      "image/png": "[encoded data removed]",
      "text/plain": [
       "<matplotlib.figure.Figure at 0x11e985550>"
      ]
     },
     "metadata": {},
     "output_type": "display_data"
    }
   ],
   "source": [
    "hist(train_data.Monthly_Income, log = True)\n",
    "xlabel('Monthly income')\n",
    "ylabel('Count')"
   ]
  },
  {
   "cell_type": "markdown",
   "metadata": {},
   "source": [
    "### Customer Existing Primary Bank Code"
   ]
  },
  {
   "cell_type": "code",
   "execution_count": 72,
   "metadata": {},
   "outputs": [
    {
     "data": {
      "text/plain": [
       "B001    0.203693\n",
       "B002    0.156102\n",
       "B003    0.136518\n",
       "BNaN    0.134523\n",
       "B004    0.101438\n",
       "B005    0.027547\n",
       "B006    0.023846\n",
       "B007    0.017777\n",
       "B008    0.013558\n",
       "B009    0.013501\n",
       "B010    0.013200\n",
       "B012    0.011320\n",
       "B013    0.011263\n",
       "B011    0.011119\n",
       "B014    0.008695\n",
       "B015    0.008049\n",
       "B016    0.007432\n",
       "B017    0.007102\n",
       "B018    0.006815\n",
       "B019    0.006385\n",
       "B020    0.006026\n",
       "B021    0.005753\n",
       "B022    0.005567\n",
       "B023    0.005093\n",
       "B024    0.004806\n",
       "B025    0.004692\n",
       "B027    0.003845\n",
       "B026    0.003759\n",
       "B028    0.003702\n",
       "B029    0.002956\n",
       "B030    0.002898\n",
       "B031    0.002884\n",
       "B033    0.002697\n",
       "B032    0.002683\n",
       "B034    0.002640\n",
       "B035    0.002310\n",
       "B038    0.002138\n",
       "B036    0.002080\n",
       "B039    0.001966\n",
       "B037    0.001966\n",
       "B040    0.001908\n",
       "B041    0.001406\n",
       "B042    0.001148\n",
       "B043    0.001004\n",
       "B044    0.000861\n",
       "B046    0.000689\n",
       "B045    0.000674\n",
       "B047    0.000560\n",
       "B048    0.000488\n",
       "B049    0.000215\n",
       "B050    0.000172\n",
       "B054    0.000115\n",
       "B051    0.000115\n",
       "B052    0.000100\n",
       "B053    0.000072\n",
       "B055    0.000057\n",
       "B056    0.000057\n",
       "B057    0.000014\n",
       "Name: Customer_Existing_Primary_Bank_Code, dtype: float64"
      ]
     },
     "execution_count": 72,
     "metadata": {},
     "output_type": "execute_result"
    }
   ],
   "source": [
    "train_data.Customer_Existing_Primary_Bank_Code.value_counts(dropna=False, normalize=True)"
   ]
  },
  {
   "cell_type": "markdown",
   "metadata": {},
   "source": [
    "### Primary Bank Type"
   ]
  },
  {
   "cell_type": "code",
   "execution_count": 73,
   "metadata": {},
   "outputs": [
    {
     "data": {
      "image/png": "[encoded data removed]",
      "text/plain": [
       "<matplotlib.figure.Figure at 0x11b2bc4d0>"
      ]
     },
     "metadata": {},
     "output_type": "display_data"
    }
   ],
   "source": [
    "_ = sns.countplot(train_data.Primary_Bank_Type, palette='Set1')"
   ]
  },
  {
   "cell_type": "markdown",
   "metadata": {},
   "source": [
    "### Contacted "
   ]
  },
  {
   "cell_type": "code",
   "execution_count": 77,
   "metadata": {},
   "outputs": [
    {
     "data": {
      "image/png": "[encoded data removed]",
      "text/plain": [
       "<matplotlib.figure.Figure at 0x1211ab890>"
      ]
     },
     "metadata": {},
     "output_type": "display_data"
    }
   ],
   "source": [
    "_ = sns.countplot(train_data.Contacted, palette=\"Set1\")"
   ]
  },
  {
   "cell_type": "markdown",
   "metadata": {},
   "source": [
    "### Source"
   ]
  },
  {
   "cell_type": "code",
   "execution_count": 78,
   "metadata": {},
   "outputs": [
    {
     "data": {
      "text/plain": [
       "S122    0.443714\n",
       "S133    0.342578\n",
       "S159    0.064191\n",
       "S143    0.049930\n",
       "S127    0.022181\n",
       "S137    0.020087\n",
       "S134    0.015036\n",
       "S161    0.008910\n",
       "S151    0.008164\n",
       "S157    0.007274\n",
       "S153    0.005782\n",
       "S156    0.003587\n",
       "S144    0.003486\n",
       "S158    0.002396\n",
       "S123    0.000875\n",
       "S141    0.000660\n",
       "S162    0.000445\n",
       "S124    0.000244\n",
       "S160    0.000100\n",
       "S150    0.000100\n",
       "S136    0.000043\n",
       "S155    0.000043\n",
       "S129    0.000043\n",
       "S138    0.000029\n",
       "S139    0.000029\n",
       "S135    0.000029\n",
       "S140    0.000014\n",
       "S130    0.000014\n",
       "S154    0.000014\n",
       "Name: Source, dtype: float64"
      ]
     },
     "execution_count": 78,
     "metadata": {},
     "output_type": "execute_result"
    }
   ],
   "source": [
    "train_data.Source.value_counts(dropna=False, normalize=True)"
   ]
  },
  {
   "cell_type": "markdown",
   "metadata": {},
   "source": [
    "### Source Category"
   ]
  },
  {
   "cell_type": "code",
   "execution_count": 79,
   "metadata": {},
   "outputs": [
    {
     "data": {
      "text/plain": [
       "B    0.427731\n",
       "G    0.380255\n",
       "C    0.163190\n",
       "E    0.015065\n",
       "D    0.007131\n",
       "F    0.006586\n",
       "A    0.000043\n",
       "Name: Source_Category, dtype: float64"
      ]
     },
     "execution_count": 79,
     "metadata": {},
     "output_type": "execute_result"
    }
   ],
   "source": [
    "train_data.Source_Category.value_counts(dropna=False, normalize=True)"
   ]
  },
  {
   "cell_type": "code",
   "execution_count": 80,
   "metadata": {},
   "outputs": [
    {
     "data": {
      "image/png": "[encoded data removed]",
      "text/plain": [
       "<matplotlib.figure.Figure at 0x1100a7510>"
      ]
     },
     "metadata": {},
     "output_type": "display_data"
    }
   ],
   "source": [
    "_ = sns.countplot(train_data.Source_Category, palette=\"Set1\")"
   ]
  },
  {
   "cell_type": "markdown",
   "metadata": {},
   "source": [
    "### Existing EMI"
   ]
  },
  {
   "cell_type": "code",
   "execution_count": 87,
   "metadata": {},
   "outputs": [
    {
     "data": {
      "text/plain": [
       "count     69698.000000\n",
       "mean        360.742326\n",
       "std        2287.941514\n",
       "min           0.000000\n",
       "25%           0.000000\n",
       "50%           0.000000\n",
       "75%         350.000000\n",
       "max      545436.500000\n",
       "Name: Existing_EMI, dtype: float64"
      ]
     },
     "execution_count": 87,
     "metadata": {},
     "output_type": "execute_result"
    }
   ],
   "source": [
    "train_data.Existing_EMI.describe()"
   ]
  },
  {
   "cell_type": "markdown",
   "metadata": {},
   "source": [
    "### Loan Amount"
   ]
  },
  {
   "cell_type": "code",
   "execution_count": 90,
   "metadata": {},
   "outputs": [
    {
     "data": {
      "text/plain": [
       "<matplotlib.text.Text at 0x11d2dac90>"
      ]
     },
     "execution_count": 90,
     "metadata": {},
     "output_type": "execute_result"
    },
    {
     "data": {
      "image/png": "[encoded data removed]",
      "text/plain": [
       "<matplotlib.figure.Figure at 0x11a9b92d0>"
      ]
     },
     "metadata": {},
     "output_type": "display_data"
    }
   ],
   "source": [
    "hist(train_data.Loan_Amount.dropna(), log = True, bins=20)\n",
    "xlabel('Monthly income')\n",
    "ylabel('Count')"
   ]
  },
  {
   "cell_type": "markdown",
   "metadata": {},
   "source": [
    "### Loan Period"
   ]
  },
  {
   "cell_type": "code",
   "execution_count": 109,
   "metadata": {},
   "outputs": [
    {
     "data": {
      "image/png": "[encoded data removed]",
      "text/plain": [
       "<matplotlib.figure.Figure at 0x1210df210>"
      ]
     },
     "metadata": {},
     "output_type": "display_data"
    }
   ],
   "source": [
    "_ = sns.countplot(train_data.Loan_Period, palette=\"Set1\")"
   ]
  },
  {
   "cell_type": "code",
   "execution_count": 111,
   "metadata": {},
   "outputs": [
    {
     "data": {
      "text/plain": [
       "4.0    0.571509\n",
       "5.0    0.238931\n",
       "3.0    0.101280\n",
       "2.0    0.061207\n",
       "1.0    0.027060\n",
       "6.0    0.000014\n",
       "Name: Loan_Period, dtype: float64"
      ]
     },
     "execution_count": 111,
     "metadata": {},
     "output_type": "execute_result"
    }
   ],
   "source": [
    "train_data.Loan_Period.value_counts(dropna=False, normalize=True)"
   ]
  },
  {
   "cell_type": "markdown",
   "metadata": {},
   "source": [
    "### Interest rate"
   ]
  },
  {
   "cell_type": "code",
   "execution_count": 113,
   "metadata": {},
   "outputs": [
    {
     "data": {
      "text/plain": [
       "<matplotlib.axes._subplots.AxesSubplot at 0x121415c10>"
      ]
     },
     "execution_count": 113,
     "metadata": {},
     "output_type": "execute_result"
    },
    {
     "data": {
      "image/png": "[encoded data removed]",
      "text/plain": [
       "<matplotlib.figure.Figure at 0x1218adf50>"
      ]
     },
     "metadata": {},
     "output_type": "display_data"
    }
   ],
   "source": [
    "train_data.Interest_Rate.hist(label = \"Interest rate\", bins=15)"
   ]
  },
  {
   "cell_type": "code",
   "execution_count": 116,
   "metadata": {},
   "outputs": [
    {
     "data": {
      "text/plain": [
       "count    22276.000000\n",
       "mean        19.213570\n",
       "std          5.847136\n",
       "min         11.990000\n",
       "25%         15.250000\n",
       "50%         18.000000\n",
       "75%         20.000000\n",
       "max         37.000000\n",
       "Name: Interest_Rate, dtype: float64"
      ]
     },
     "execution_count": 116,
     "metadata": {},
     "output_type": "execute_result"
    }
   ],
   "source": [
    "train_data.Interest_Rate.describe()"
   ]
  },
  {
   "cell_type": "markdown",
   "metadata": {},
   "source": [
    "### EMI"
   ]
  },
  {
   "cell_type": "code",
   "execution_count": 114,
   "metadata": {},
   "outputs": [
    {
     "data": {
      "text/plain": [
       "count    22276.000000\n",
       "mean      1101.466242\n",
       "std        752.661394\n",
       "min        118.000000\n",
       "25%        649.000000\n",
       "50%        941.000000\n",
       "75%       1295.000000\n",
       "max      13556.000000\n",
       "Name: EMI, dtype: float64"
      ]
     },
     "execution_count": 114,
     "metadata": {},
     "output_type": "execute_result"
    }
   ],
   "source": [
    "train_data.EMI.describe()"
   ]
  },
  {
   "cell_type": "markdown",
   "metadata": {},
   "source": [
    "### Var1"
   ]
  },
  {
   "cell_type": "code",
   "execution_count": 123,
   "metadata": {},
   "outputs": [
    {
     "data": {
      "image/png": "[encoded data removed]",
      "text/plain": [
       "<matplotlib.figure.Figure at 0x110dcaf50>"
      ]
     },
     "metadata": {},
     "output_type": "display_data"
    }
   ],
   "source": [
    "_ = sns.countplot(train_data.Var1, palette=\"Set1\")"
   ]
  },
  {
   "cell_type": "markdown",
   "metadata": {},
   "source": [
    "### Approved"
   ]
  },
  {
   "cell_type": "code",
   "execution_count": 124,
   "metadata": {},
   "outputs": [
    {
     "data": {
      "image/png": "[encoded data removed]",
      "text/plain": [
       "<matplotlib.figure.Figure at 0x12108ea90>"
      ]
     },
     "metadata": {},
     "output_type": "display_data"
    }
   ],
   "source": [
    "_ = sns.countplot(train_data.Approved, palette = \"Set1\")"
   ]
  },
  {
   "cell_type": "code",
   "execution_count": 126,
   "metadata": {},
   "outputs": [
    {
     "data": {
      "text/plain": [
       "0    0.985365\n",
       "1    0.014635\n",
       "Name: Approved, dtype: float64"
      ]
     },
     "execution_count": 126,
     "metadata": {},
     "output_type": "execute_result"
    }
   ],
   "source": [
    "train_data.Approved.value_counts(normalize=True, dropna=True)"
   ]
  },
  {
   "cell_type": "markdown",
   "metadata": {},
   "source": [
    "As we can see our data is unbalanced"
   ]
  },
  {
   "cell_type": "code",
   "execution_count": 127,
   "metadata": {},
   "outputs": [
    {
     "data": {
      "text/plain": [
       "ID                                             object\n",
       "Gender                                         object\n",
       "DOB                                    datetime64[ns]\n",
       "Lead_Creation_Date                     datetime64[ns]\n",
       "City_Code                                      object\n",
       "City_Category                                  object\n",
       "Employer_Code                                  object\n",
       "Employer_Category1                             object\n",
       "Employer_Category2                            float64\n",
       "Monthly_Income                                float64\n",
       "Customer_Existing_Primary_Bank_Code            object\n",
       "Primary_Bank_Type                              object\n",
       "Contacted                                      object\n",
       "Source                                         object\n",
       "Source_Category                                object\n",
       "Existing_EMI                                  float64\n",
       "Loan_Amount                                   float64\n",
       "Loan_Period                                   float64\n",
       "Interest_Rate                                 float64\n",
       "EMI                                           float64\n",
       "Var1                                            int64\n",
       "Approved                                        int64\n",
       "Age                                           float64\n",
       "Lead_Creation_Date_year                         int64\n",
       "Lead_Creation_Date_month                        int64\n",
       "Lead_Creation_Date_day                          int64\n",
       "Lead_Creation_Date_day_of_week                  int64\n",
       "isLoanInforamtionMissing                        int64\n",
       "isInterestRateIsnMissing                        int64\n",
       "dtype: object"
      ]
     },
     "execution_count": 127,
     "metadata": {},
     "output_type": "execute_result"
    }
   ],
   "source": [
    "train_data.dtypes"
   ]
  },
  {
   "cell_type": "markdown",
   "metadata": {},
   "source": [
    "## Correlation"
   ]
  },
  {
   "cell_type": "code",
   "execution_count": 128,
   "metadata": {},
   "outputs": [
    {
     "data": {
      "image/png": "[encoded data removed]",
      "text/plain": [
       "<matplotlib.figure.Figure at 0x12106e1d0>"
      ]
     },
     "metadata": {},
     "output_type": "display_data"
    }
   ],
   "source": [
    "sns.set(context=\"paper\", font=\"monospace\")\n",
    "\n",
    "corrmat = train_data.corr()\n",
    "_ = sns.heatmap(corrmat, vmax=.8, square=True)"
   ]
  },
  {
   "cell_type": "markdown",
   "metadata": {},
   "source": [
    "## Random Forest Algorithm"
   ]
  },
  {
   "cell_type": "markdown",
   "metadata": {},
   "source": [
    "Algorithms like decision trees and random forests can work with categorical variables fine and LabelEncoder can be used to store values using less disk space."
   ]
  },
  {
   "cell_type": "code",
   "execution_count": 278,
   "metadata": {
    "collapsed": true
   },
   "outputs": [],
   "source": [
    "from sklearn.preprocessing import LabelEncoder"
   ]
  },
  {
   "cell_type": "code",
   "execution_count": 322,
   "metadata": {
    "collapsed": true
   },
   "outputs": [],
   "source": [
    "def encode_with_LabelEncoder(df, column_name):\n",
    "    label_encoder = LabelEncoder()\n",
    "    label_encoder.fit(df[column_name])\n",
    "    df[column_name+'_le'] = label_encoder.transform(df[column_name])\n",
    "    return label_encoder"
   ]
  },
  {
   "cell_type": "code",
   "execution_count": 323,
   "metadata": {
    "collapsed": true
   },
   "outputs": [],
   "source": [
    "categorical_columns = [\"Gender\", \"City_Code\", \"City_Category\", \"Employer_Code\", \"Employer_Category1\", \"Employer_Category2\", \"Customer_Existing_Primary_Bank_Code\", \"Primary_Bank_Type\", \"Contacted\", \"Source\", \"Source_Category\"]\n",
    "discrete_columns = [\"Loan_Period\",\"Var1\", \"Lead_Creation_Date_day_of_week\", \"isLoanInforamtionMissing\", \"isInterestRateIsnMissing\",\"Age\"]\n",
    "real_columns = [\"Monthly_Income\", \"Existing_EMI\", \"Loan_Amount\", \"Interest_Rate\", \"EMI\"]"
   ]
  },
  {
   "cell_type": "code",
   "execution_count": 324,
   "metadata": {
    "collapsed": true
   },
   "outputs": [],
   "source": [
    "for column in categorical_columns:\n",
    "    encode_with_LabelEncoder(train_data, column)"
   ]
  },
  {
   "cell_type": "code",
   "execution_count": 325,
   "metadata": {
    "collapsed": true
   },
   "outputs": [],
   "source": [
    "for column in categorical_columns:\n",
    "    encode_with_LabelEncoder(test_data, column)"
   ]
  },
  {
   "cell_type": "code",
   "execution_count": 326,
   "metadata": {
    "collapsed": true
   },
   "outputs": [],
   "source": [
    "categorical_columns = [column_name+'_le' for column_name in categorical_columns]"
   ]
  },
  {
   "cell_type": "code",
   "execution_count": 327,
   "metadata": {
    "collapsed": true
   },
   "outputs": [],
   "source": [
    "train_columns = categorical_columns + discrete_columns + real_columns"
   ]
  },
  {
   "cell_type": "code",
   "execution_count": 328,
   "metadata": {
    "collapsed": true
   },
   "outputs": [],
   "source": [
    "X_train = train_data[train_columns]\n",
    "y = train_data.Approved"
   ]
  },
  {
   "cell_type": "code",
   "execution_count": 329,
   "metadata": {
    "collapsed": true
   },
   "outputs": [],
   "source": [
    "X_test = test_data[train_columns]"
   ]
  },
  {
   "cell_type": "code",
   "execution_count": 154,
   "metadata": {},
   "outputs": [
    {
     "data": {
      "text/plain": [
       "0.98512152429051048"
      ]
     },
     "execution_count": 154,
     "metadata": {},
     "output_type": "execute_result"
    }
   ],
   "source": [
    "from sklearn.ensemble import RandomForestClassifier\n",
    "RF = RandomForestClassifier(random_state=42, oob_score=True, n_jobs=24, n_estimators=500)\n",
    "RF.fit(X_train, y)\n",
    "RF.oob_score_"
   ]
  },
  {
   "cell_type": "code",
   "execution_count": 153,
   "metadata": {},
   "outputs": [
    {
     "data": {
      "text/plain": [
       "array([ 0.81389447,  0.8268326 ,  0.83264547,  0.82615081,  0.80377631])"
      ]
     },
     "execution_count": 153,
     "metadata": {},
     "output_type": "execute_result"
    }
   ],
   "source": [
    "from sklearn.model_selection import StratifiedKFold\n",
    "from sklearn.model_selection import cross_val_score\n",
    "\n",
    "kfold = StratifiedKFold(n_splits=5, shuffle=True, random_state=42)\n",
    "\n",
    "clf = RandomForestClassifier(random_state=42, n_estimators=500, n_jobs=24)\n",
    "cross_val_score(clf, X_train, y, cv=kfold, scoring='roc_auc')"
   ]
  },
  {
   "cell_type": "code",
   "execution_count": 157,
   "metadata": {},
   "outputs": [
    {
     "name": "stdout",
     "output_type": "stream",
     "text": [
      "CPU times: user 3.11 s, sys: 148 ms, total: 3.26 s\n",
      "Wall time: 1.17 s\n",
      "24 0.700998585372\n",
      "CPU times: user 6.16 s, sys: 134 ms, total: 6.29 s\n",
      "Wall time: 2.21 s\n",
      "72 0.775971956464\n",
      "CPU times: user 7.24 s, sys: 220 ms, total: 7.46 s\n",
      "Wall time: 3.38 s\n",
      "120 0.798472525823\n",
      "CPU times: user 7.09 s, sys: 204 ms, total: 7.3 s\n",
      "Wall time: 3.19 s\n",
      "168 0.805427994368\n",
      "CPU times: user 7.6 s, sys: 250 ms, total: 7.85 s\n",
      "Wall time: 3.73 s\n",
      "216 0.810487629894\n",
      "CPU times: user 7.85 s, sys: 186 ms, total: 8.04 s\n",
      "Wall time: 4.05 s\n",
      "264 0.812111398876\n",
      "CPU times: user 8.2 s, sys: 194 ms, total: 8.4 s\n",
      "Wall time: 4.17 s\n",
      "312 0.814551732584\n",
      "CPU times: user 8.47 s, sys: 201 ms, total: 8.67 s\n",
      "Wall time: 4.77 s\n",
      "360 0.817200713938\n",
      "CPU times: user 9.1 s, sys: 365 ms, total: 9.46 s\n",
      "Wall time: 5.51 s\n",
      "408 0.819229947636\n",
      "CPU times: user 9.54 s, sys: 366 ms, total: 9.91 s\n",
      "Wall time: 5.96 s\n",
      "456 0.819350797592\n",
      "CPU times: user 9.41 s, sys: 338 ms, total: 9.75 s\n",
      "Wall time: 5.65 s\n",
      "504 0.82070275581\n",
      "CPU times: user 10.3 s, sys: 468 ms, total: 10.8 s\n",
      "Wall time: 7.37 s\n",
      "552 0.821980279636\n",
      "CPU times: user 10.3 s, sys: 383 ms, total: 10.7 s\n",
      "Wall time: 6.62 s\n",
      "600 0.822965390588\n",
      "CPU times: user 10.6 s, sys: 414 ms, total: 11.1 s\n",
      "Wall time: 7.16 s\n",
      "648 0.823870828477\n",
      "CPU times: user 11.5 s, sys: 330 ms, total: 11.8 s\n",
      "Wall time: 8.68 s\n",
      "696 0.824863771702\n",
      "CPU times: user 11.6 s, sys: 429 ms, total: 12.1 s\n",
      "Wall time: 8.24 s\n",
      "744 0.825322289479\n",
      "CPU times: user 12.2 s, sys: 582 ms, total: 12.8 s\n",
      "Wall time: 8.61 s\n",
      "792 0.825881687727\n",
      "CPU times: user 12.6 s, sys: 768 ms, total: 13.4 s\n",
      "Wall time: 9.83 s\n",
      "840 0.825931011756\n",
      "CPU times: user 12.3 s, sys: 282 ms, total: 12.6 s\n",
      "Wall time: 8.4 s\n",
      "888 0.825913209061\n",
      "CPU times: user 13.2 s, sys: 376 ms, total: 13.5 s\n",
      "Wall time: 9.64 s\n",
      "936 0.825814574415\n",
      "CPU times: user 14 s, sys: 435 ms, total: 14.4 s\n",
      "Wall time: 10.1 s\n",
      "984 0.826106803023\n",
      "CPU times: user 13.9 s, sys: 684 ms, total: 14.6 s\n",
      "Wall time: 10.4 s\n",
      "1032 0.82615302165\n",
      "CPU times: user 13.7 s, sys: 344 ms, total: 14 s\n",
      "Wall time: 9.97 s\n",
      "1080 0.826431568828\n",
      "CPU times: user 14.3 s, sys: 755 ms, total: 15.1 s\n",
      "Wall time: 11.1 s\n",
      "1128 0.826812333743\n",
      "CPU times: user 15 s, sys: 750 ms, total: 15.7 s\n",
      "Wall time: 12.3 s\n",
      "1176 0.826617049121\n",
      "CPU times: user 15.7 s, sys: 1.06 s, total: 16.8 s\n",
      "Wall time: 12.6 s\n",
      "1224 0.827147467279\n",
      "CPU times: user 14.8 s, sys: 270 ms, total: 15.1 s\n",
      "Wall time: 11 s\n",
      "1272 0.827204071695\n",
      "CPU times: user 15.3 s, sys: 280 ms, total: 15.6 s\n",
      "Wall time: 11.5 s\n",
      "1320 0.827596947613\n",
      "CPU times: user 16.7 s, sys: 708 ms, total: 17.4 s\n",
      "Wall time: 1min 10s\n",
      "1368 0.828209784674\n",
      "CPU times: user 17.6 s, sys: 1.36 s, total: 19 s\n",
      "Wall time: 15.1 s\n",
      "1416 0.827940948737\n",
      "CPU times: user 17.5 s, sys: 1.89 s, total: 19.4 s\n",
      "Wall time: 15.9 s\n",
      "1464 0.828310325323\n"
     ]
    }
   ],
   "source": [
    "RF = RandomForestClassifier(random_state=42, oob_score=True, warm_start=True, n_jobs=24)\n",
    "\n",
    "roc_auc_scores = []\n",
    "for n_estimators in arange(24, 1500, 48):\n",
    "    RF.n_estimators = n_estimators\n",
    "    %time RF.fit(X_train, y)\n",
    "    kfold = StratifiedKFold(n_splits=5, shuffle=True, random_state=42)\n",
    "    roc_auc_score = mean(cross_val_score(RF, X_train, y, cv=kfold, scoring='roc_auc'))\n",
    "    roc_auc_scores.append(roc_auc_score)\n",
    "    print n_estimators, roc_auc_score"
   ]
  },
  {
   "cell_type": "code",
   "execution_count": 158,
   "metadata": {},
   "outputs": [
    {
     "data": {
      "image/png": "[encoded data removed]",
      "text/plain": [
       "<matplotlib.figure.Figure at 0x11c05e190>"
      ]
     },
     "metadata": {},
     "output_type": "display_data"
    }
   ],
   "source": [
    "_ = plot(arange(24, 1500, 48)[:len(roc_auc_scores)], roc_auc_scores)"
   ]
  },
  {
   "cell_type": "markdown",
   "metadata": {},
   "source": [
    "### 1 Submission (RF, 800)"
   ]
  },
  {
   "cell_type": "code",
   "execution_count": 336,
   "metadata": {
    "collapsed": true
   },
   "outputs": [],
   "source": [
    "def create_submission(name, prob_aprove):\n",
    "    final_df = pd.DataFrame(prob_aprove).assign(e=pd.Series(test_data[\"ID\"].copy()).values)\n",
    "    final_df = final_df.drop(final_df.columns[0], 1)\n",
    "    columnsTitles=[final_df.columns[1],final_df.columns[0]]\n",
    "    final_df=final_df.reindex(columns=columnsTitles)\n",
    "    final_df = final_df.rename(index=str, columns={final_df.columns[0]: \"ID\", final_df.columns[1]: \"Approved\"})\n",
    "    final_df.to_csv(name, header=True, index = False)\n",
    "    return final_df"
   ]
  },
  {
   "cell_type": "code",
   "execution_count": 330,
   "metadata": {},
   "outputs": [
    {
     "data": {
      "text/plain": [
       "RandomForestClassifier(bootstrap=True, class_weight=None, criterion='gini',\n",
       "            max_depth=None, max_features='auto', max_leaf_nodes=None,\n",
       "            min_impurity_split=1e-07, min_samples_leaf=1,\n",
       "            min_samples_split=2, min_weight_fraction_leaf=0.0,\n",
       "            n_estimators=800, n_jobs=24, oob_score=True, random_state=42,\n",
       "            verbose=0, warm_start=True)"
      ]
     },
     "execution_count": 330,
     "metadata": {},
     "output_type": "execute_result"
    }
   ],
   "source": [
    "RF = RandomForestClassifier(random_state=42, oob_score=True, warm_start=True, n_jobs=24, n_estimators=800)\n",
    "RF.fit(X_train, y)"
   ]
  },
  {
   "cell_type": "code",
   "execution_count": 331,
   "metadata": {
    "collapsed": true
   },
   "outputs": [],
   "source": [
    "prob_aprove = RF.predict_proba(X_test)"
   ]
  },
  {
   "cell_type": "code",
   "execution_count": 337,
   "metadata": {},
   "outputs": [
    {
     "data": {
      "text/plain": [
       "(30037, 2)"
      ]
     },
     "execution_count": 337,
     "metadata": {},
     "output_type": "execute_result"
    }
   ],
   "source": [
    "create_submission(\"1st_submission.csv\", prob_aprove).shape"
   ]
  },
  {
   "cell_type": "markdown",
   "metadata": {},
   "source": [
    "### Tuning parametrs"
   ]
  },
  {
   "cell_type": "code",
   "execution_count": 242,
   "metadata": {},
   "outputs": [
    {
     "name": "stdout",
     "output_type": "stream",
     "text": [
      "Fitting 5 folds for each of 20 candidates, totalling 100 fits\n"
     ]
    },
    {
     "name": "stderr",
     "output_type": "stream",
     "text": [
      "[Parallel(n_jobs=1)]: Done 100 out of 100 | elapsed: 70.7min finished\n"
     ]
    },
    {
     "name": "stdout",
     "output_type": "stream",
     "text": [
      "best score: 0.84423080423 {'max_features': 'sqrt', 'bootstrap': False, 'criterion': 'entropy', 'max_depth': 10}\n",
      "CPU times: user 3h 51min 36s, sys: 4min, total: 3h 55min 36s\n",
      "Wall time: 1h 11min 12s\n"
     ]
    }
   ],
   "source": [
    "%%time\n",
    "from sklearn.model_selection import RandomizedSearchCV\n",
    "param_distributions = {'criterion': ['gini', 'entropy'], \n",
    "                       'max_features': ['sqrt', 'log2', None], \n",
    "                       'max_depth': [3, 10, 20, None],\n",
    "                       'bootstrap': [True, False]}\n",
    "\n",
    "\n",
    "RF = RandomForestClassifier(random_state=42, n_jobs=24, n_estimators=800)\n",
    "grid_searcher = RandomizedSearchCV(RF, param_distributions, n_iter=20, \n",
    "                                   cv=kfold, scoring='roc_auc',\n",
    "                                   verbose=True)\n",
    "grid_searcher.fit(X_train, y)\n",
    "print 'best score:', grid_searcher.best_score_, grid_searcher.best_params_"
   ]
  },
  {
   "cell_type": "markdown",
   "metadata": {},
   "source": [
    "### 2 submission"
   ]
  },
  {
   "cell_type": "code",
   "execution_count": 338,
   "metadata": {},
   "outputs": [
    {
     "data": {
      "text/plain": [
       "RandomForestClassifier(bootstrap=True, class_weight=None, criterion='gini',\n",
       "            max_depth=10, max_features='auto', max_leaf_nodes=None,\n",
       "            min_impurity_split=1e-07, min_samples_leaf=1,\n",
       "            min_samples_split=2, min_weight_fraction_leaf=0.0,\n",
       "            n_estimators=800, n_jobs=24, oob_score=True, random_state=42,\n",
       "            verbose=0, warm_start=True)"
      ]
     },
     "execution_count": 338,
     "metadata": {},
     "output_type": "execute_result"
    }
   ],
   "source": [
    "RF = RandomForestClassifier(random_state=42, oob_score=True, warm_start=True, n_jobs=24, n_estimators=800, max_depth=10)\n",
    "RF.fit(X_train, y)"
   ]
  },
  {
   "cell_type": "code",
   "execution_count": 339,
   "metadata": {
    "collapsed": true
   },
   "outputs": [],
   "source": [
    "prob_aprove = RF.predict_proba(X_test)"
   ]
  },
  {
   "cell_type": "code",
   "execution_count": 340,
   "metadata": {},
   "outputs": [
    {
     "data": {
      "text/plain": [
       "(30037, 2)"
      ]
     },
     "execution_count": 340,
     "metadata": {},
     "output_type": "execute_result"
    }
   ],
   "source": [
    "create_submission(\"2nd_submission.csv\", prob_aprove).shape"
   ]
  },
  {
   "cell_type": "markdown",
   "metadata": {},
   "source": [
    "### Tuning parametrs to balance sample"
   ]
  },
  {
   "cell_type": "code",
   "execution_count": 341,
   "metadata": {},
   "outputs": [
    {
     "name": "stderr",
     "output_type": "stream",
     "text": [
      "/Users/zkid18/anaconda2/lib/python2.7/site-packages/sklearn/ensemble/forest.py:488: UserWarning: class_weight presets \"balanced\" or \"balanced_subsample\" are not recommended for warm_start if the fitted data differs from the full dataset. In order to use \"balanced\" weights, use compute_class_weight(\"balanced\", classes, y). In place of y you can use a large enough sample of the full training set target to properly estimate the class frequency distributions. Pass the resulting weights as the class_weight parameter.\n",
      "  warn('class_weight presets \"balanced\" or \"balanced_subsample\" are '\n"
     ]
    },
    {
     "name": "stdout",
     "output_type": "stream",
     "text": [
      "0.838598687901\n",
      "0.834389646535\n",
      "0.844655277112\n"
     ]
    }
   ],
   "source": [
    "searching_for_classes = ['balanced', \n",
    "                         {0:2},\n",
    "                         {1:10}\n",
    "                        ]\n",
    "\n",
    "for option in searching_for_classes:\n",
    "    clf = RandomForestClassifier(class_weight=option, random_state=42, oob_score=True, warm_start=True, n_jobs=24, n_estimators=800, max_depth=10)\n",
    "    print mean(cross_val_score(clf, X_train, y, cv=kfold, scoring='roc_auc'))"
   ]
  },
  {
   "cell_type": "markdown",
   "metadata": {},
   "source": [
    "### 3 submission"
   ]
  },
  {
   "cell_type": "code",
   "execution_count": 343,
   "metadata": {},
   "outputs": [
    {
     "data": {
      "text/plain": [
       "RandomForestClassifier(bootstrap=True, class_weight={1: 10}, criterion='gini',\n",
       "            max_depth=10, max_features='auto', max_leaf_nodes=None,\n",
       "            min_impurity_split=1e-07, min_samples_leaf=1,\n",
       "            min_samples_split=2, min_weight_fraction_leaf=0.0,\n",
       "            n_estimators=800, n_jobs=24, oob_score=True, random_state=42,\n",
       "            verbose=0, warm_start=True)"
      ]
     },
     "execution_count": 343,
     "metadata": {},
     "output_type": "execute_result"
    }
   ],
   "source": [
    "RF = RandomForestClassifier(class_weight = {1:10}, random_state=42, oob_score=True, warm_start=True, n_jobs=24, n_estimators=800, max_depth=10)\n",
    "RF.fit(X_train, y)"
   ]
  },
  {
   "cell_type": "code",
   "execution_count": 344,
   "metadata": {},
   "outputs": [
    {
     "data": {
      "text/plain": [
       "(30037, 2)"
      ]
     },
     "execution_count": 344,
     "metadata": {},
     "output_type": "execute_result"
    }
   ],
   "source": [
    "prob_aprove = RF.predict_proba(X_test)\n",
    "create_submission(\"3d_submission.csv\", prob_aprove).shape"
   ]
  },
  {
   "cell_type": "markdown",
   "metadata": {},
   "source": [
    "## Extra Trees Classifier"
   ]
  },
  {
   "cell_type": "markdown",
   "metadata": {},
   "source": [
    "The Extra-Tree method (standing for extremely randomized trees), with the main objective of further randomizing tree building in the context of numerical input features, where the choice of the optimal cut-point is responsible for a large proportion of the variance of the induced tree."
   ]
  },
  {
   "cell_type": "code",
   "execution_count": 346,
   "metadata": {},
   "outputs": [
    {
     "data": {
      "text/plain": [
       "0.62062834420473345"
      ]
     },
     "execution_count": 346,
     "metadata": {},
     "output_type": "execute_result"
    }
   ],
   "source": [
    "from sklearn.ensemble import ExtraTreesClassifier\n",
    "clf = ExtraTreesClassifier(random_state=42)\n",
    "mean(cross_val_score(clf, X_train, y, cv=kfold, scoring='roc_auc'))"
   ]
  },
  {
   "cell_type": "markdown",
   "metadata": {},
   "source": [
    "Perfomance is much worser than in RF, so I suggested not to contunie worlking on it"
   ]
  },
  {
   "cell_type": "markdown",
   "metadata": {},
   "source": [
    "## Logistic Regression"
   ]
  },
  {
   "cell_type": "markdown",
   "metadata": {},
   "source": [
    "For logisitc regression it is important to work with numerical features only. Moreover, they should be scalled and normalized. "
   ]
  },
  {
   "cell_type": "markdown",
   "metadata": {},
   "source": [
    "### Converting categorical features to numeric"
   ]
  },
  {
   "cell_type": "markdown",
   "metadata": {},
   "source": [
    "### Gender "
   ]
  },
  {
   "cell_type": "code",
   "execution_count": 347,
   "metadata": {
    "collapsed": true
   },
   "outputs": [],
   "source": [
    "train_data.Gender = train_data.Gender.map({'Male': 0, 'Female': 1})"
   ]
  },
  {
   "cell_type": "code",
   "execution_count": 349,
   "metadata": {
    "collapsed": true
   },
   "outputs": [],
   "source": [
    "test_data.Gender = test_data.Gender.map({'Male': 0, 'Female': 1})"
   ]
  },
  {
   "cell_type": "code",
   "execution_count": 348,
   "metadata": {
    "collapsed": true
   },
   "outputs": [],
   "source": [
    "def add_dummies(df, column_name, prefix):\n",
    "    dummies = pd.get_dummies(df[column_name], prefix=prefix, drop_first=False)\n",
    "    return pd.concat([df, dummies], axis=1)"
   ]
  },
  {
   "cell_type": "markdown",
   "metadata": {},
   "source": [
    "### City Category"
   ]
  },
  {
   "cell_type": "code",
   "execution_count": 350,
   "metadata": {
    "collapsed": true
   },
   "outputs": [],
   "source": [
    "train_data = add_dummies(train_data, 'City_Category', 'city')\n",
    "test_data = add_dummies(test_data, 'City_Category', 'city')"
   ]
  },
  {
   "cell_type": "markdown",
   "metadata": {},
   "source": [
    "### City Code"
   ]
  },
  {
   "cell_type": "markdown",
   "metadata": {},
   "source": [
    "Frequency encoding. As \"City_Code\" variable has too many different clases, I will encode this variable through frequency of each class"
   ]
  },
  {
   "cell_type": "code",
   "execution_count": 352,
   "metadata": {
    "collapsed": true
   },
   "outputs": [],
   "source": [
    "tariff2frequency = dict(train_data[\"City_Code\"].value_counts(normalize=True))  \n",
    "train_data[\"City_Code_freq\"] = train_data[\"City_Code\"].map(lambda x: tariff2frequency[x])"
   ]
  },
  {
   "cell_type": "code",
   "execution_count": 354,
   "metadata": {
    "collapsed": true
   },
   "outputs": [],
   "source": [
    "tariff2frequency = dict(test_data[\"City_Code\"].value_counts(normalize=True))  \n",
    "test_data[\"City_Code_freq\"] = test_data[\"City_Code\"].map(lambda x: tariff2frequency[x])"
   ]
  },
  {
   "cell_type": "markdown",
   "metadata": {},
   "source": [
    "### Employer code"
   ]
  },
  {
   "cell_type": "markdown",
   "metadata": {},
   "source": [
    "Employer code is non-standardized, as there is too many different meanings. \n",
    "\n",
    "Discard this column, but add a flag, if there was a post at all:"
   ]
  },
  {
   "cell_type": "code",
   "execution_count": 355,
   "metadata": {
    "collapsed": true
   },
   "outputs": [],
   "source": [
    "train_data[\"is_employer_code_exist\"] = np.where(train_data.Employer_Code.isnull, 0, 1)\n",
    "test_data[\"is_employer_code_exist\"] = np.where(test_data.Employer_Code.isnull, 0, 1)"
   ]
  },
  {
   "cell_type": "markdown",
   "metadata": {},
   "source": [
    "### Employer Category"
   ]
  },
  {
   "cell_type": "code",
   "execution_count": 356,
   "metadata": {
    "collapsed": true
   },
   "outputs": [],
   "source": [
    "train_data = add_dummies(train_data, 'Employer_Category1', 'Emp_cat1')\n",
    "train_data = add_dummies(train_data, 'Employer_Category2', 'Emp_cat2')\n",
    "\n",
    "test_data = add_dummies(test_data, 'Employer_Category1', 'Emp_cat1')\n",
    "test_data = add_dummies(test_data, 'Employer_Category2', 'Emp_cat2')"
   ]
  },
  {
   "cell_type": "markdown",
   "metadata": {},
   "source": [
    "### Customer Existing Primary Bank Code"
   ]
  },
  {
   "cell_type": "markdown",
   "metadata": {},
   "source": [
    "Frequency encoding"
   ]
  },
  {
   "cell_type": "code",
   "execution_count": 359,
   "metadata": {
    "collapsed": true
   },
   "outputs": [],
   "source": [
    "tariff2frequency = dict(train_data[\"Customer_Existing_Primary_Bank_Code\"].value_counts(normalize=True))  \n",
    "train_data[\"Customer_Existing_Primary_Bank_Code_freq\"] = train_data[\"Customer_Existing_Primary_Bank_Code\"].map(lambda x: tariff2frequency[x])"
   ]
  },
  {
   "cell_type": "code",
   "execution_count": 360,
   "metadata": {
    "collapsed": true
   },
   "outputs": [],
   "source": [
    "tariff2frequency = dict(test_data[\"Customer_Existing_Primary_Bank_Code\"].value_counts(normalize=True))  \n",
    "test_data[\"Customer_Existing_Primary_Bank_Code_freq\"] = test_data[\"Customer_Existing_Primary_Bank_Code\"].map(lambda x: tariff2frequency[x])"
   ]
  },
  {
   "cell_type": "markdown",
   "metadata": {},
   "source": [
    "### Primary_Bank_Type"
   ]
  },
  {
   "cell_type": "code",
   "execution_count": 361,
   "metadata": {
    "collapsed": true
   },
   "outputs": [],
   "source": [
    "train_data = add_dummies(train_data, 'Primary_Bank_Type', 'bank_type')\n",
    "test_data = add_dummies(test_data, 'Primary_Bank_Type', 'bank_type')"
   ]
  },
  {
   "cell_type": "markdown",
   "metadata": {},
   "source": [
    "### Source"
   ]
  },
  {
   "cell_type": "code",
   "execution_count": 362,
   "metadata": {
    "collapsed": true
   },
   "outputs": [],
   "source": [
    "train_data = add_dummies(train_data, 'Source', 'source')\n",
    "test_data = add_dummies(test_data, 'Source', 'source')"
   ]
  },
  {
   "cell_type": "markdown",
   "metadata": {},
   "source": [
    "### Source Categories"
   ]
  },
  {
   "cell_type": "code",
   "execution_count": 363,
   "metadata": {
    "collapsed": true
   },
   "outputs": [],
   "source": [
    "train_data = add_dummies(train_data, 'Source_Category', 'source_cat')\n",
    "test_data = add_dummies(test_data, 'Source_Category', 'source_cat')"
   ]
  },
  {
   "cell_type": "code",
   "execution_count": 371,
   "metadata": {},
   "outputs": [
    {
     "data": {
      "text/plain": [
       "Index([u'city_A', u'city_B', u'city_C', u'city_N', u'City_Code_freq',\n",
       "       u'is_employer_code_exist', u'Emp_cat1_A', u'Emp_cat1_B', u'Emp_cat1_C',\n",
       "       u'Emp_cat1_N', u'Emp_cat2_0.0', u'Emp_cat2_1.0', u'Emp_cat2_2.0',\n",
       "       u'Emp_cat2_3.0', u'Emp_cat2_4.0',\n",
       "       u'Customer_Existing_Primary_Bank_Code_freq', u'bank_type_G',\n",
       "       u'bank_type_N', u'bank_type_P', u'source_S122', u'source_S123',\n",
       "       u'source_S124', u'source_S127', u'source_S129', u'source_S130',\n",
       "       u'source_S133', u'source_S134', u'source_S135', u'source_S136',\n",
       "       u'source_S137', u'source_S138', u'source_S139', u'source_S140',\n",
       "       u'source_S141', u'source_S143', u'source_S144', u'source_S150',\n",
       "       u'source_S151', u'source_S153', u'source_S154', u'source_S155',\n",
       "       u'source_S156', u'source_S157', u'source_S158', u'source_S159',\n",
       "       u'source_S160', u'source_S161', u'source_S162', u'source_cat_A',\n",
       "       u'source_cat_B', u'source_cat_C', u'source_cat_D', u'source_cat_E',\n",
       "       u'source_cat_F', u'source_cat_G'],\n",
       "      dtype='object')"
      ]
     },
     "execution_count": 371,
     "metadata": {},
     "output_type": "execute_result"
    }
   ],
   "source": [
    "train_data.columns[40:]"
   ]
  },
  {
   "cell_type": "code",
   "execution_count": 384,
   "metadata": {
    "collapsed": true
   },
   "outputs": [],
   "source": [
    "discrete_columns = [\"Gender\",\"Loan_Period\",\"Var1\", \"Lead_Creation_Date_day_of_week\", \"isLoanInforamtionMissing\", \"isInterestRateIsnMissing\",\"Age\"] + train_data.columns[40:].tolist()\n",
    "real_columns = [\"Monthly_Income\", \"Existing_EMI\", \"Loan_Amount\", \"Interest_Rate\", \"EMI\"]"
   ]
  },
  {
   "cell_type": "code",
   "execution_count": 385,
   "metadata": {
    "collapsed": true
   },
   "outputs": [],
   "source": [
    "train_columns = discrete_columns + real_columns"
   ]
  },
  {
   "cell_type": "markdown",
   "metadata": {},
   "source": [
    "Some features are missing in test dataset. For example 'source_S130' 'source_S135' 'source_S140' 'source_S154' 'source_S160'. Drop it from train_columns, as there will be a surprise when the algorithm on the input will be given more columns than those on which it was trained"
   ]
  },
  {
   "cell_type": "code",
   "execution_count": 388,
   "metadata": {
    "collapsed": true
   },
   "outputs": [],
   "source": [
    "not_in_test = ['source_S130', 'source_S135', 'source_S140', 'source_S154', 'source_S160']"
   ]
  },
  {
   "cell_type": "code",
   "execution_count": 389,
   "metadata": {
    "collapsed": true
   },
   "outputs": [],
   "source": [
    "for feature in not_in_test:\n",
    "    train_columns.remove(feature)"
   ]
  },
  {
   "cell_type": "code",
   "execution_count": 444,
   "metadata": {
    "collapsed": true
   },
   "outputs": [],
   "source": [
    "X_train = train_data[train_columns]\n",
    "y = train_data.Approved"
   ]
  },
  {
   "cell_type": "code",
   "execution_count": 445,
   "metadata": {
    "collapsed": true
   },
   "outputs": [],
   "source": [
    "X_test = test_data[train_columns]"
   ]
  },
  {
   "cell_type": "markdown",
   "metadata": {},
   "source": [
    "### Data normalization"
   ]
  },
  {
   "cell_type": "code",
   "execution_count": 446,
   "metadata": {
    "collapsed": true
   },
   "outputs": [],
   "source": [
    "from sklearn.preprocessing import StandardScaler\n",
    "scaler = StandardScaler()\n",
    "X_train_scaled = scaler.fit_transform(X_train)\n",
    "X_test_scaled = scaler.transform(X_test)"
   ]
  },
  {
   "cell_type": "code",
   "execution_count": 394,
   "metadata": {},
   "outputs": [
    {
     "data": {
      "text/plain": [
       "0.81126539483891702"
      ]
     },
     "execution_count": 394,
     "metadata": {},
     "output_type": "execute_result"
    }
   ],
   "source": [
    "from sklearn.linear_model import LogisticRegression\n",
    "clf = LogisticRegression(random_state=42, n_jobs=24)\n",
    "mean(cross_val_score(clf, X_train_scaled, y, cv=kfold, scoring='roc_auc'))"
   ]
  },
  {
   "cell_type": "code",
   "execution_count": 398,
   "metadata": {},
   "outputs": [
    {
     "name": "stdout",
     "output_type": "stream",
     "text": [
      "Removed feature Var1 0.786870355003\n",
      "Removed feature Age 0.807284885323\n",
      "Removed feature city_N 0.811383058338\n",
      "Removed feature Emp_cat1_B 0.811334533507\n",
      "Removed feature Emp_cat2_1.0 0.811340527592\n",
      "Removed feature Customer_Existing_Primary_Bank_Code_freq 0.811392836913\n",
      "Removed feature source_S122 0.811328968295\n",
      "Removed feature source_S129 0.811322188692\n",
      "Removed feature source_S137 0.811088618865\n",
      "Removed feature source_S143 0.8113343909\n",
      "Removed feature source_S153 0.811837719327\n",
      "Removed feature source_S158 0.811341029817\n",
      "Removed feature source_cat_A 0.811316050333\n",
      "Removed feature source_cat_E 0.811364575688\n",
      "Removed feature Existing_EMI 0.799362825163\n",
      "Removed feature Loan_Period 0.811578304839\n",
      "Removed feature city_C 0.811337459215\n",
      "Removed feature Emp_cat2_0.0 0.811345879773\n",
      "Removed feature bank_type_P 0.811338672301\n",
      "Removed feature source_S136 0.811325898889\n",
      "Removed feature source_S151 0.811326041455\n",
      "Removed feature source_S162 0.811282939385\n",
      "Removed feature Monthly_Income 0.80272861037\n",
      "Removed feature city_A 0.811335746646\n",
      "Removed feature bank_type_G 0.811334176711\n",
      "Removed feature source_S144 0.811839677251\n",
      "Removed feature source_cat_F 0.811371140728\n",
      "Removed feature Emp_cat2_2.0 0.8113451666\n",
      "Removed feature source_cat_B 0.811332606744\n",
      "Removed feature source_S155 0.811330180244\n",
      "Removed feature Loan_Amount 0.811111252583\n",
      "Removed feature Age 0.807284742607\n",
      "Removed feature Emp_cat1_B 0.811334604861\n",
      "Removed feature Customer_Existing_Primary_Bank_Code_freq 0.811393336442\n",
      "Removed feature source_S129 0.811322188682\n",
      "Removed feature source_S143 0.81133460498\n",
      "Removed feature source_S158 0.811341172554\n",
      "Removed feature source_cat_E 0.811364718405\n",
      "Removed feature Loan_Period 0.811578447566\n",
      "Removed feature Emp_cat2_0.0 0.81134580842\n",
      "Removed feature source_S136 0.811325827526\n",
      "Removed feature source_S162 0.811283010743\n",
      "Removed feature city_A 0.811336388886\n",
      "Removed feature source_S144 0.811839605887\n",
      "Removed feature Emp_cat2_2.0 0.81134452437\n",
      "Removed feature source_S155 0.811329466614\n",
      "Removed feature Age 0.807284885318\n",
      "Removed feature Customer_Existing_Primary_Bank_Code_freq 0.811392908271\n",
      "Removed feature source_S143 0.811335175841\n",
      "Removed feature source_cat_E 0.811365075223\n",
      "Removed feature Emp_cat2_0.0 0.811346022485\n",
      "Removed feature source_S162 0.811283296187\n",
      "Removed feature source_S144 0.81183946317\n",
      "Removed feature source_S155 0.811329680699\n",
      "Removed feature Customer_Existing_Primary_Bank_Code_freq 0.811392765555\n",
      "Removed feature source_cat_E 0.811365146581\n",
      "Removed feature source_S162 0.811283010738\n",
      "Removed feature source_S155 0.811329752063\n",
      "Removed feature source_cat_E 0.811364789779\n",
      "Removed feature source_S155 0.81132960933\n",
      "Removed feature source_S155 0.81132960933\n"
     ]
    }
   ],
   "source": [
    "for column in train_columns:\n",
    "    train_columns.remove(column)\n",
    "    \n",
    "    X_train = train_data[train_columns]\n",
    "    y = train_data.Approved\n",
    "    X_test = test_data[train_columns]\n",
    "    \n",
    "    scaler = StandardScaler()\n",
    "    X_train_scaled = scaler.fit_transform(X_train)\n",
    "    X_test_scaled = scaler.transform(X_test)\n",
    "    \n",
    "    clf = LogisticRegression(random_state=42, n_jobs=24)\n",
    "    roc_auc_score = mean(cross_val_score(clf, X_train_scaled, y, cv=kfold, scoring='roc_auc'))\n",
    "    \n",
    "    print \"Removed feature\", column, roc_auc_score\n",
    "    train_columns.append(column)"
   ]
  },
  {
   "cell_type": "markdown",
   "metadata": {},
   "source": [
    "As we can see, feature removing didn't improve our model dramatically"
   ]
  },
  {
   "cell_type": "markdown",
   "metadata": {},
   "source": [
    "### Tuning parametrs"
   ]
  },
  {
   "cell_type": "code",
   "execution_count": 447,
   "metadata": {},
   "outputs": [
    {
     "data": {
      "text/plain": [
       "0.81581609487123163"
      ]
     },
     "execution_count": 447,
     "metadata": {},
     "output_type": "execute_result"
    }
   ],
   "source": [
    "clf = LogisticRegression(random_state=42, n_jobs=24, class_weight='balanced', penalty='l1')\n",
    "mean(cross_val_score(clf, X_train_scaled, y, cv=kfold, scoring='roc_auc'))"
   ]
  },
  {
   "cell_type": "markdown",
   "metadata": {},
   "source": [
    "Still worser, than RF"
   ]
  },
  {
   "cell_type": "markdown",
   "metadata": {},
   "source": [
    "## SVM "
   ]
  },
  {
   "cell_type": "code",
   "execution_count": null,
   "metadata": {},
   "outputs": [
    {
     "name": "stdout",
     "output_type": "stream",
     "text": [
      "linear:"
     ]
    }
   ],
   "source": [
    "from sklearn.svm import SVC\n",
    "clf = SVC(random_state=42, kernel='linear', class_weight='balanced', probability=True)\n",
    "print 'linear:', mean(cross_val_score(clf, X_train_scaled, y, cv=kfold, scoring='roc_auc', n_jobs=5))"
   ]
  },
  {
   "cell_type": "markdown",
   "metadata": {},
   "source": [
    "As SVM has O(n^2) complexity, it took me more than 2 hours on 'Intel(R) Core(TM) i5-5257U CPU @ 2.70GHz' to compute it. I decided to stop it"
   ]
  },
  {
   "cell_type": "markdown",
   "metadata": {},
   "source": [
    "## XGBoost"
   ]
  },
  {
   "cell_type": "code",
   "execution_count": 420,
   "metadata": {},
   "outputs": [
    {
     "name": "stderr",
     "output_type": "stream",
     "text": [
      "/Users/zkid18/anaconda2/lib/python2.7/site-packages/sklearn/grid_search.py:43: DeprecationWarning: This module was deprecated in version 0.18 in favor of the model_selection module into which all the refactored classes and functions are moved. This module will be removed in 0.20.\n",
      "  DeprecationWarning)\n"
     ]
    }
   ],
   "source": [
    "from sklearn import metrics   \n",
    "from sklearn.grid_search import GridSearchCV"
   ]
  },
  {
   "cell_type": "code",
   "execution_count": 421,
   "metadata": {
    "collapsed": true
   },
   "outputs": [],
   "source": [
    "def modelfit(alg, dtrain, predictors, useTrainCV=True, cv_folds=5, early_stopping_rounds=50):\n",
    "    \n",
    "    if useTrainCV:\n",
    "        xgb_param = alg.get_xgb_params()\n",
    "        xgtrain = xgb.DMatrix(dtrain[predictors].values, label=dtrain[\"Approved\"].values)\n",
    "        cvresult = xgb.cv(xgb_param, xgtrain, num_boost_round=alg.get_params()['n_estimators'], nfold=cv_folds,\n",
    "            metrics='auc', early_stopping_rounds=early_stopping_rounds)\n",
    "        alg.set_params(n_estimators=cvresult.shape[0])\n",
    "    \n",
    "    #Fit the algorithm on the data\n",
    "    alg.fit(dtrain[predictors], dtrain[\"Approved\"],eval_metric='auc')\n",
    "        \n",
    "    #Predict training set:\n",
    "    dtrain_predictions = alg.predict(dtrain[predictors])\n",
    "    dtrain_predprob = alg.predict_proba(dtrain[predictors])[:,1]\n",
    "        \n",
    "    #Print model report:\n",
    "    print \"\\Report\"\n",
    "    print \"AUC Score (Train): %f\" % metrics.roc_auc_score(dtrain[\"Approved\"], dtrain_predprob)\n",
    "                    \n",
    "    feat_imp = pd.Series(alg.booster().get_fscore()).sort_values(ascending=False)\n",
    "    feat_imp.plot(kind='bar', title='Feature Importances')\n",
    "    plt.ylabel('Feature Importance Score')"
   ]
  },
  {
   "cell_type": "code",
   "execution_count": 401,
   "metadata": {},
   "outputs": [
    {
     "name": "stderr",
     "output_type": "stream",
     "text": [
      "/Users/zkid18/anaconda2/lib/python2.7/site-packages/sklearn/cross_validation.py:44: DeprecationWarning: This module was deprecated in version 0.18 in favor of the model_selection module into which all the refactored classes and functions are moved. Also note that the interface of the new CV iterators are different from that of this module. This module will be removed in 0.20.\n",
      "  \"This module will be removed in 0.20.\", DeprecationWarning)\n"
     ]
    }
   ],
   "source": [
    "import xgboost as xgb\n",
    "from xgboost import XGBClassifier"
   ]
  },
  {
   "cell_type": "code",
   "execution_count": 406,
   "metadata": {
    "collapsed": true
   },
   "outputs": [],
   "source": [
    "X_train = train_data[train_columns]\n",
    "y = train_data.Approved\n",
    "X_test = test_data[train_columns]"
   ]
  },
  {
   "cell_type": "code",
   "execution_count": 407,
   "metadata": {
    "collapsed": true
   },
   "outputs": [],
   "source": [
    "from sklearn.preprocessing import StandardScaler\n",
    "scaler = StandardScaler()\n",
    "X_train_scaled = scaler.fit_transform(X_train)\n",
    "X_test_scaled = scaler.transform(X_test)"
   ]
  },
  {
   "cell_type": "markdown",
   "metadata": {},
   "source": [
    "### 4 submission"
   ]
  },
  {
   "cell_type": "code",
   "execution_count": 422,
   "metadata": {},
   "outputs": [
    {
     "name": "stdout",
     "output_type": "stream",
     "text": [
      "\\Report\n",
      "AUC Score (Train): 0.909343\n"
     ]
    },
    {
     "data": {
      "image/png": "[encoded data removed]",
      "text/plain": [
       "<matplotlib.figure.Figure at 0x137442a50>"
      ]
     },
     "metadata": {},
     "output_type": "display_data"
    }
   ],
   "source": [
    "xgb1 = XGBClassifier( learning_rate =0.1, n_estimators=1000, max_depth=5, min_child_weight=1, gamma=0, subsample=0.8, colsample_bytree=0.8, objective= 'binary:logistic', nthread=4, scale_pos_weight=1,seed=27)\n",
    "#mean(cross_val_score(xgb1, X_train_scaled, y, cv=kfold, scoring='roc_auc', early_stopping_rounds=50))\n",
    "modelfit(xgb1, train_data, train_columns)"
   ]
  },
  {
   "cell_type": "code",
   "execution_count": 423,
   "metadata": {
    "collapsed": true
   },
   "outputs": [],
   "source": [
    "prob_approve = xgb1.predict_proba(X_test)"
   ]
  },
  {
   "cell_type": "code",
   "execution_count": 425,
   "metadata": {},
   "outputs": [
    {
     "data": {
      "text/plain": [
       "(30037, 2)"
      ]
     },
     "execution_count": 425,
     "metadata": {},
     "output_type": "execute_result"
    }
   ],
   "source": [
    "create_submission(\"4th_submission.csv\", prob_aprove).shape"
   ]
  },
  {
   "cell_type": "markdown",
   "metadata": {},
   "source": [
    "## Tuning parametrs"
   ]
  },
  {
   "cell_type": "markdown",
   "metadata": {},
   "source": [
    "Tune max_depth and min_child_weight"
   ]
  },
  {
   "cell_type": "code",
   "execution_count": 427,
   "metadata": {},
   "outputs": [
    {
     "data": {
      "text/plain": [
       "([mean: 0.85004, std: 0.00576, params: {'max_depth': 3, 'min_child_weight': 1},\n",
       "  mean: 0.84940, std: 0.00637, params: {'max_depth': 3, 'min_child_weight': 3},\n",
       "  mean: 0.84888, std: 0.00602, params: {'max_depth': 3, 'min_child_weight': 5},\n",
       "  mean: 0.84884, std: 0.00628, params: {'max_depth': 5, 'min_child_weight': 1},\n",
       "  mean: 0.84980, std: 0.00619, params: {'max_depth': 5, 'min_child_weight': 3},\n",
       "  mean: 0.85023, std: 0.00519, params: {'max_depth': 5, 'min_child_weight': 5},\n",
       "  mean: 0.84560, std: 0.00844, params: {'max_depth': 7, 'min_child_weight': 1},\n",
       "  mean: 0.84628, std: 0.00616, params: {'max_depth': 7, 'min_child_weight': 3},\n",
       "  mean: 0.84377, std: 0.00623, params: {'max_depth': 7, 'min_child_weight': 5},\n",
       "  mean: 0.83835, std: 0.00571, params: {'max_depth': 9, 'min_child_weight': 1},\n",
       "  mean: 0.84101, std: 0.00655, params: {'max_depth': 9, 'min_child_weight': 3},\n",
       "  mean: 0.84246, std: 0.00793, params: {'max_depth': 9, 'min_child_weight': 5}],\n",
       " {'max_depth': 5, 'min_child_weight': 5},\n",
       " 0.8502333041188219)"
      ]
     },
     "execution_count": 427,
     "metadata": {},
     "output_type": "execute_result"
    }
   ],
   "source": [
    "param_test1 = {\n",
    " 'max_depth':range(3,10,2),\n",
    " 'min_child_weight':range(1,6,2)\n",
    "}\n",
    "gsearch1 = GridSearchCV(estimator = XGBClassifier( learning_rate =0.1, n_estimators=140, max_depth=5,\n",
    " min_child_weight=1, gamma=0, subsample=0.8, colsample_bytree=0.8,\n",
    " objective= 'binary:logistic', nthread=4, scale_pos_weight=1, seed=27), \n",
    " param_grid = param_test1, scoring='roc_auc',n_jobs=4,iid=False, cv=5)\n",
    "gsearch1.fit(X_train_scaled,y)\n",
    "gsearch1.grid_scores_, gsearch1.best_params_, gsearch1.best_score_"
   ]
  },
  {
   "cell_type": "code",
   "execution_count": 429,
   "metadata": {},
   "outputs": [
    {
     "data": {
      "text/plain": [
       "([mean: 0.85072, std: 0.00545, params: {'max_depth': 4, 'min_child_weight': 4},\n",
       "  mean: 0.84863, std: 0.00565, params: {'max_depth': 4, 'min_child_weight': 5},\n",
       "  mean: 0.84858, std: 0.00689, params: {'max_depth': 4, 'min_child_weight': 6},\n",
       "  mean: 0.85057, std: 0.00580, params: {'max_depth': 5, 'min_child_weight': 4},\n",
       "  mean: 0.85023, std: 0.00519, params: {'max_depth': 5, 'min_child_weight': 5},\n",
       "  mean: 0.84986, std: 0.00546, params: {'max_depth': 5, 'min_child_weight': 6},\n",
       "  mean: 0.84764, std: 0.00572, params: {'max_depth': 6, 'min_child_weight': 4},\n",
       "  mean: 0.84894, std: 0.00551, params: {'max_depth': 6, 'min_child_weight': 5},\n",
       "  mean: 0.84765, std: 0.00664, params: {'max_depth': 6, 'min_child_weight': 6}],\n",
       " {'max_depth': 4, 'min_child_weight': 4},\n",
       " 0.8502333041188219)"
      ]
     },
     "execution_count": 429,
     "metadata": {},
     "output_type": "execute_result"
    }
   ],
   "source": [
    "param_test2 = {\n",
    " 'max_depth':[4,5,6],\n",
    " 'min_child_weight':[4,5,6]\n",
    "}\n",
    "gsearch2 = GridSearchCV(estimator = XGBClassifier( learning_rate =0.1, n_estimators=140, max_depth=5,\n",
    " min_child_weight=1, gamma=0, subsample=0.8, colsample_bytree=0.8,\n",
    " objective= 'binary:logistic', nthread=4, scale_pos_weight=1, seed=27), \n",
    " param_grid = param_test2, scoring='roc_auc',n_jobs=4,iid=False, cv=5)\n",
    "gsearch2.fit(X_train_scaled,y)\n",
    "gsearch2.grid_scores_, gsearch2.best_params_, gsearch1.best_score_"
   ]
  },
  {
   "cell_type": "markdown",
   "metadata": {},
   "source": [
    "Tune gamma"
   ]
  },
  {
   "cell_type": "code",
   "execution_count": 432,
   "metadata": {},
   "outputs": [
    {
     "data": {
      "text/plain": [
       "([mean: 0.85072, std: 0.00545, params: {'gamma': 0.0},\n",
       "  mean: 0.85068, std: 0.00550, params: {'gamma': 0.1},\n",
       "  mean: 0.85007, std: 0.00581, params: {'gamma': 0.2},\n",
       "  mean: 0.85105, std: 0.00501, params: {'gamma': 0.3},\n",
       "  mean: 0.85071, std: 0.00666, params: {'gamma': 0.4}],\n",
       " {'gamma': 0.3},\n",
       " 0.8510538573645661)"
      ]
     },
     "execution_count": 432,
     "metadata": {},
     "output_type": "execute_result"
    }
   ],
   "source": [
    "param_test3 = {\n",
    " 'gamma':[i/10.0 for i in range(0,5)]\n",
    "}\n",
    "gsearch3 = GridSearchCV(estimator = XGBClassifier( learning_rate =0.1, n_estimators=140, max_depth=4,\n",
    " min_child_weight=4, gamma=0, subsample=0.8, colsample_bytree=0.8,\n",
    " objective= 'binary:logistic', nthread=4, scale_pos_weight=1,seed=27), \n",
    " param_grid = param_test3, scoring='roc_auc',n_jobs=4,iid=False, cv=5)\n",
    "gsearch3.fit(X_train_scaled,y)\n",
    "gsearch3.grid_scores_, gsearch3.best_params_, gsearch3.best_score_"
   ]
  },
  {
   "cell_type": "code",
   "execution_count": 433,
   "metadata": {},
   "outputs": [
    {
     "name": "stdout",
     "output_type": "stream",
     "text": [
      "\\Report\n",
      "AUC Score (Train): 0.895812\n"
     ]
    },
    {
     "data": {
      "image/png": "[encoded data removed]",
      "text/plain": [
       "<matplotlib.figure.Figure at 0x144fe1690>"
      ]
     },
     "metadata": {},
     "output_type": "display_data"
    }
   ],
   "source": [
    "xgb2 = XGBClassifier(\n",
    " learning_rate =0.1,\n",
    " n_estimators=1000,\n",
    " max_depth=4,\n",
    " min_child_weight=4,\n",
    " gamma=0.3,\n",
    " subsample=0.8,\n",
    " colsample_bytree=0.8,\n",
    " objective= 'binary:logistic',\n",
    " nthread=4,\n",
    " scale_pos_weight=1,\n",
    " seed=27)\n",
    "modelfit(xgb2, train_data, train_columns)"
   ]
  },
  {
   "cell_type": "markdown",
   "metadata": {},
   "source": [
    "### 5 submission"
   ]
  },
  {
   "cell_type": "code",
   "execution_count": 440,
   "metadata": {
    "collapsed": true
   },
   "outputs": [],
   "source": [
    "prob_approve = xgb2.predict_proba(X_test)"
   ]
  },
  {
   "cell_type": "code",
   "execution_count": 441,
   "metadata": {},
   "outputs": [
    {
     "data": {
      "text/plain": [
       "(30037, 2)"
      ]
     },
     "execution_count": 441,
     "metadata": {},
     "output_type": "execute_result"
    }
   ],
   "source": [
    "create_submission(\"5th_submission.csv\", prob_approve).shape"
   ]
  },
  {
   "cell_type": "markdown",
   "metadata": {},
   "source": [
    "Tune regulization parametr"
   ]
  },
  {
   "cell_type": "code",
   "execution_count": 437,
   "metadata": {},
   "outputs": [
    {
     "data": {
      "text/plain": [
       "([mean: 0.82773, std: 0.00936, params: {'reg_alpha': 1e-05},\n",
       "  mean: 0.82470, std: 0.01019, params: {'reg_alpha': 0.01},\n",
       "  mean: 0.82393, std: 0.00899, params: {'reg_alpha': 0.1},\n",
       "  mean: 0.82647, std: 0.00922, params: {'reg_alpha': 1},\n",
       "  mean: 0.81368, std: 0.00901, params: {'reg_alpha': 100}],\n",
       " {'gamma': 0.3},\n",
       " 0.8510538573645661)"
      ]
     },
     "execution_count": 437,
     "metadata": {},
     "output_type": "execute_result"
    }
   ],
   "source": [
    "param_test6 = {\n",
    " 'reg_alpha':[1e-5, 1e-2, 0.1, 1, 100]\n",
    "}\n",
    "gsearch5 = GridSearchCV(estimator = XGBClassifier( learning_rate =0.1, n_estimators=1000, max_depth=4,\n",
    " min_child_weight=4, gamma=0.3, subsample=0.8, colsample_bytree=0.8,\n",
    " objective= 'binary:logistic', nthread=4, scale_pos_weight=1,seed=27), \n",
    " param_grid = param_test6, scoring='roc_auc',n_jobs=4,iid=False, cv=5)\n",
    "gsearch5.fit(X_train_scaled,y)\n",
    "gsearch5.grid_scores_, gsearch3.best_params_, gsearch3.best_score_"
   ]
  },
  {
   "cell_type": "code",
   "execution_count": 438,
   "metadata": {},
   "outputs": [
    {
     "name": "stdout",
     "output_type": "stream",
     "text": [
      "\\Report\n",
      "AUC Score (Train): 0.895605\n"
     ]
    },
    {
     "data": {
      "image/png": "[encoded data removed]",
      "text/plain": [
       "<matplotlib.figure.Figure at 0x122e0dc90>"
      ]
     },
     "metadata": {},
     "output_type": "display_data"
    }
   ],
   "source": [
    "xgb3 = XGBClassifier(\n",
    " learning_rate =0.1,\n",
    " n_estimators=1000,\n",
    " max_depth=4,\n",
    " min_child_weight=4,\n",
    " gamma=0.3,\n",
    " subsample=0.8,\n",
    " colsample_bytree=0.8,\n",
    " reg_alpha=0.005,\n",
    " objective= 'binary:logistic',\n",
    " nthread=4,\n",
    " scale_pos_weight=1,\n",
    " seed=27)\n",
    "modelfit(xgb3, train_data, train_columns)"
   ]
  },
  {
   "cell_type": "markdown",
   "metadata": {},
   "source": [
    "### 6 submission"
   ]
  },
  {
   "cell_type": "code",
   "execution_count": 439,
   "metadata": {},
   "outputs": [
    {
     "data": {
      "text/plain": [
       "(30037, 2)"
      ]
     },
     "execution_count": 439,
     "metadata": {},
     "output_type": "execute_result"
    }
   ],
   "source": [
    "prob_approve = xgb3.predict_proba(X_test)\n",
    "\n",
    "create_submission(\"6th_submission.csv\", prob_approve).shape"
   ]
  },
  {
   "cell_type": "markdown",
   "metadata": {},
   "source": [
    "Reducing learning rate and n estimators"
   ]
  },
  {
   "cell_type": "code",
   "execution_count": 442,
   "metadata": {},
   "outputs": [
    {
     "name": "stdout",
     "output_type": "stream",
     "text": [
      "\\Report\n",
      "AUC Score (Train): 0.896894\n"
     ]
    },
    {
     "data": {
      "image/png": "[encoded data removed]",
      "text/plain": [
       "<matplotlib.figure.Figure at 0x11d5cfb50>"
      ]
     },
     "metadata": {},
     "output_type": "display_data"
    }
   ],
   "source": [
    "xgb4 = XGBClassifier(\n",
    " learning_rate =0.01,\n",
    " n_estimators=5000,\n",
    " max_depth=4,\n",
    " min_child_weight=4,\n",
    " gamma=0.3,\n",
    " subsample=0.8,\n",
    " colsample_bytree=0.8,\n",
    " objective= 'binary:logistic',\n",
    " nthread=4,\n",
    " scale_pos_weight=1,\n",
    " seed=27)\n",
    "modelfit(xgb4, train_data, train_columns)"
   ]
  },
  {
   "cell_type": "markdown",
   "metadata": {},
   "source": [
    "### 7 submission"
   ]
  },
  {
   "cell_type": "code",
   "execution_count": 443,
   "metadata": {},
   "outputs": [
    {
     "data": {
      "text/plain": [
       "(30037, 2)"
      ]
     },
     "execution_count": 443,
     "metadata": {},
     "output_type": "execute_result"
    }
   ],
   "source": [
    "prob_approve = xgb4.predict_proba(X_test)\n",
    "\n",
    "create_submission(\"7th_submission.csv\", prob_approve).shape"
   ]
  }
 ],
 "metadata": {
  "kernelspec": {
   "display_name": "Python 2",
   "language": "python",
   "name": "python2"
  },
  "language_info": {
   "codemirror_mode": {
    "name": "ipython",
    "version": 2
   },
   "file_extension": ".py",
   "mimetype": "text/x-python",
   "name": "python",
   "nbconvert_exporter": "python",
   "pygments_lexer": "ipython2",
   "version": "2.7.13"
  }
 },
 "nbformat": 4,
 "nbformat_minor": 2
}
